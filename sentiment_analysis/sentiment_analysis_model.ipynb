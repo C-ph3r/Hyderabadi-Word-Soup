{
 "cells": [
  {
   "cell_type": "markdown",
   "metadata": {},
   "source": [
    "## Sentiment Analysis"
   ]
  },
  {
   "cell_type": "markdown",
   "metadata": {},
   "source": [
    "Objective: How well can we predict a restaurant’s Zomato score using the polarity of their reviews as input?"
   ]
  },
  {
   "cell_type": "markdown",
   "metadata": {},
   "source": [
    "### Imports"
   ]
  },
  {
   "cell_type": "code",
   "execution_count": null,
   "metadata": {},
   "outputs": [
    {
     "name": "stdout",
     "output_type": "stream",
     "text": [
      "The autoreload extension is already loaded. To reload it, use:\n",
      "  %reload_ext autoreload\n"
     ]
    },
    {
     "name": "stderr",
     "output_type": "stream",
     "text": [
      "[nltk_data] Downloading package vader_lexicon to\n",
      "[nltk_data]     C:\\Users\\msard\\AppData\\Roaming\\nltk_data...\n",
      "[nltk_data]   Package vader_lexicon is already up-to-date!\n"
     ]
    }
   ],
   "source": [
    "%load_ext autoreload\n",
    "%autoreload 2\n",
    "\n",
    "import pandas as pd\n",
    "import numpy as np\n",
    "import re\n",
    "import nltk\n",
    "import statistics\n",
    "import random\n",
    "\n",
    "#Preprocessing\n",
    "from utils importpipeline\n",
    "from nltk.tokenize import word_tokenize\n",
    "from nltk.tokenize import PunktSentenceTokenizer\n",
    "from textblob import TextBlob\n",
    "sent_tokenizer = PunktSentenceTokenizer()\n",
    "from sentiment_analysis import sentiment_analysis_functions\n",
    "\n",
    "#Vectorization\n",
    "from sklearn.feature_extraction.text import CountVectorizer\n",
    "from sklearn.feature_extraction.text import TfidfVectorizer\n",
    "from gensim.models.doc2vec import Doc2Vec, TaggedDocument\n",
    "\n",
    "#Sentiment Analysis with VADER\n",
    "nltk.download('vader_lexicon')\n",
    "from nltk.sentiment.vader import SentimentIntensityAnalyzer\n",
    "\n",
    "#Sentiment Analysis with TextBlob\n",
    "#%pip install textblob\n",
    "from textblob import TextBlob\n",
    "\n",
    "#Classification and Metrics\n",
    "from sklearn.model_selection import train_test_split\n",
    "from sklearn.model_selection import StratifiedKFold\n",
    "from sklearn.naive_bayes import MultinomialNB\n",
    "from sklearn.naive_bayes import GaussianNB\n",
    "from sklearn import metrics\n",
    "\n",
    "from scipy.stats import pearsonr\n",
    "from sklearn import preprocessing\n",
    "from sklearn.metrics import mean_squared_error\n",
    "from sklearn.metrics import mean_absolute_percentage_error\n",
    "\n",
    "\n",
    "#Visualization\n",
    "import matplotlib.pyplot as plt\n",
    "import seaborn as sns\n",
    "import plotly.express as px\n",
    "import plotly.graph_objects as go\n",
    "from wordcloud import WordCloud\n",
    "from tqdm import tqdm"
   ]
  },
  {
   "cell_type": "markdown",
   "metadata": {},
   "source": [
    "### Preprocessing"
   ]
  },
  {
   "cell_type": "code",
   "execution_count": null,
   "metadata": {},
   "outputs": [
    {
     "data": {
      "text/html": [
       "<div>\n",
       "<style scoped>\n",
       "    .dataframe tbody tr th:only-of-type {\n",
       "        vertical-align: middle;\n",
       "    }\n",
       "\n",
       "    .dataframe tbody tr th {\n",
       "        vertical-align: top;\n",
       "    }\n",
       "\n",
       "    .dataframe thead th {\n",
       "        text-align: right;\n",
       "    }\n",
       "</style>\n",
       "<table border=\"1\" class=\"dataframe\">\n",
       "  <thead>\n",
       "    <tr style=\"text-align: right;\">\n",
       "      <th></th>\n",
       "      <th>Review</th>\n",
       "      <th>Zomato Score</th>\n",
       "    </tr>\n",
       "  </thead>\n",
       "  <tbody>\n",
       "    <tr>\n",
       "      <th>7251</th>\n",
       "      <td>Ordered a Vanilla Fudge cake for my wife's bda...</td>\n",
       "      <td>3.915000</td>\n",
       "    </tr>\n",
       "    <tr>\n",
       "      <th>1059</th>\n",
       "      <td>roti nd nan both u gave me without butter nd i...</td>\n",
       "      <td>3.250000</td>\n",
       "    </tr>\n",
       "    <tr>\n",
       "      <th>4535</th>\n",
       "      <td>biriyani rice was not boiled properly..it was ...</td>\n",
       "      <td>3.290000</td>\n",
       "    </tr>\n",
       "    <tr>\n",
       "      <th>9226</th>\n",
       "      <td>We went there for dinner...\\nThe place , the a...</td>\n",
       "      <td>3.410000</td>\n",
       "    </tr>\n",
       "    <tr>\n",
       "      <th>7992</th>\n",
       "      <td>sweet was not served with ordered veg executiv...</td>\n",
       "      <td>3.767677</td>\n",
       "    </tr>\n",
       "  </tbody>\n",
       "</table>\n",
       "</div>"
      ],
      "text/plain": [
       "                                                 Review  Zomato Score\n",
       "7251  Ordered a Vanilla Fudge cake for my wife's bda...      3.915000\n",
       "1059  roti nd nan both u gave me without butter nd i...      3.250000\n",
       "4535  biriyani rice was not boiled properly..it was ...      3.290000\n",
       "9226  We went there for dinner...\\nThe place , the a...      3.410000\n",
       "7992  sweet was not served with ordered veg executiv...      3.767677"
      ]
     },
     "execution_count": 7,
     "metadata": {},
     "output_type": "execute_result"
    }
   ],
   "source": [
    "# Importing the dataset, and preparing it for analysis\n",
    "reviews = pd.read_csv('data_hyderabad/10k_reviews.csv')\n",
    "reviews = sentiment_analysis_functions.prepare_dataset_sentiment(reviews)\n",
    "reviews.sample(5)"
   ]
  },
  {
   "cell_type": "code",
   "execution_count": 8,
   "metadata": {},
   "outputs": [],
   "source": [
    "# Creating the example class for sentiment analysis\n",
    "class SA_Example():\n",
    "    def __init__(self, example_row) -> None:\n",
    "        self.index = example_row.index[0]\n",
    "        self.score = example_row[\"Zomato Score\"].values[0]\n",
    "        self.raw_content = example_row[\"Review\"].values[0]"
   ]
  },
  {
   "cell_type": "code",
   "execution_count": 9,
   "metadata": {},
   "outputs": [],
   "source": [
    "# Store the result as an example object\n",
    "reviews_row = reviews.loc[reviews[\"Review\"] == reviews.Review.sample(1).values[0]]\n",
    "reviews_example = SA_Example(reviews_row)"
   ]
  },
  {
   "cell_type": "markdown",
   "metadata": {},
   "source": [
    "Since we are using VADER:\n",
    "- Letter case should be preserved\n",
    "- Stopwords should be preserved\n",
    "- Punctuation should be preserved"
   ]
  },
  {
   "cell_type": "code",
   "execution_count": null,
   "metadata": {},
   "outputs": [],
   "source": [
    "reviews[\"Preproc_Review\"] =\\\n",
    "      reviews[\"Review\"].map(lambda content :pipeline.main_pipeline(content,\n",
    "                                                                        print_output=False,\n",
    "                                                                        no_stopwords=False,\n",
    "                                                                        lowercase=False,\n",
    "                                                                        lemmatized=False,\n",
    "                                                                        no_punctuation=False\n",
    "                                                                        ))"
   ]
  },
  {
   "cell_type": "code",
   "execution_count": 13,
   "metadata": {},
   "outputs": [
    {
     "data": {
      "text/plain": [
       "['Loved the food.',\n",
       " 'Very cute ambience.',\n",
       " 'Service was the downside, though.',\n",
       " 'Despite the crowd being normal and not heavy, none of the waiters were in sight when we needed them.',\n",
       " 'That being said, I recommend the wontons, the manchow soup and the chilly paneer.',\n",
       " 'Fried rice was a little insipid but other than that, a definite recommendation.']"
      ]
     },
     "execution_count": 13,
     "metadata": {},
     "output_type": "execute_result"
    }
   ],
   "source": [
    "sent_tokenizer = PunktSentenceTokenizer()\n",
    "reviews_example.tokenized_sentences = sent_tokenizer.tokenize(reviews_example.raw_content)\n",
    "reviews_example.tokenized_sentences"
   ]
  },
  {
   "cell_type": "code",
   "execution_count": 14,
   "metadata": {},
   "outputs": [],
   "source": [
    "reviews[\"Preproc_Sentences\"] =\\\n",
    "      reviews[\"Review\"].map(lambda content : [pipeline_v1e.main_pipeline(sentence,\n",
    "                                                                            print_output=False,\n",
    "                                                                            no_stopwords=False,\n",
    "                                                                            lowercase=False,\n",
    "                                                                            lemmatized=False,\n",
    "                                                                            no_punctuation=False\n",
    "                                                                            ) for sentence in sent_tokenizer.tokenize(content)])"
   ]
  },
  {
   "cell_type": "markdown",
   "metadata": {},
   "source": [
    "### VADER sentiment analyser"
   ]
  },
  {
   "cell_type": "markdown",
   "metadata": {},
   "source": [
    "Testing with an example"
   ]
  },
  {
   "cell_type": "code",
   "execution_count": 22,
   "metadata": {},
   "outputs": [],
   "source": [
    "vader = SentimentIntensityAnalyzer()"
   ]
  },
  {
   "cell_type": "code",
   "execution_count": 21,
   "metadata": {},
   "outputs": [
    {
     "name": "stdout",
     "output_type": "stream",
     "text": [
      "Loved the food. : \n",
      " {'neg': 0.0, 'neu': 0.339, 'pos': 0.661, 'compound': 0.5994}\n",
      "Very cute ambience. : \n",
      " {'neg': 0.0, 'neu': 0.378, 'pos': 0.622, 'compound': 0.5095}\n",
      "Service was the downside, though. : \n",
      " {'neg': 0.333, 'neu': 0.667, 'pos': 0.0, 'compound': -0.25}\n",
      "Despite the crowd being normal and not heavy, none of the waiters were in sight when we needed them. : \n",
      " {'neg': 0.0, 'neu': 1.0, 'pos': 0.0, 'compound': 0.0}\n",
      "That being said, I recommend the wontons, the manchow soup and the chilly paneer. : \n",
      " {'neg': 0.0, 'neu': 0.828, 'pos': 0.172, 'compound': 0.3612}\n",
      "Fried rice was a little insipid but other than that, a definite recommendation. : \n",
      " {'neg': 0.137, 'neu': 0.666, 'pos': 0.196, 'compound': 0.2014}\n"
     ]
    }
   ],
   "source": [
    "sent_compound_list = []\n",
    "\n",
    "for sentence in reviews_example.tokenized_sentences:\n",
    "    sent_polarity = vader.polarity_scores(sentence)\n",
    "    sent_compound_list.append(sent_polarity[\"compound\"])\n",
    "    print(\"{} : \\n {}\".format(sentence, sent_polarity))"
   ]
  },
  {
   "cell_type": "code",
   "execution_count": 25,
   "metadata": {},
   "outputs": [
    {
     "data": {
      "text/html": [
       "<div>\n",
       "<style scoped>\n",
       "    .dataframe tbody tr th:only-of-type {\n",
       "        vertical-align: middle;\n",
       "    }\n",
       "\n",
       "    .dataframe tbody tr th {\n",
       "        vertical-align: top;\n",
       "    }\n",
       "\n",
       "    .dataframe thead th {\n",
       "        text-align: right;\n",
       "    }\n",
       "</style>\n",
       "<table border=\"1\" class=\"dataframe\">\n",
       "  <thead>\n",
       "    <tr style=\"text-align: right;\">\n",
       "      <th></th>\n",
       "      <th>Compound_Score</th>\n",
       "    </tr>\n",
       "  </thead>\n",
       "  <tbody>\n",
       "    <tr>\n",
       "      <th>count</th>\n",
       "      <td>6.000000</td>\n",
       "    </tr>\n",
       "    <tr>\n",
       "      <th>mean</th>\n",
       "      <td>0.236917</td>\n",
       "    </tr>\n",
       "    <tr>\n",
       "      <th>std</th>\n",
       "      <td>0.321130</td>\n",
       "    </tr>\n",
       "    <tr>\n",
       "      <th>min</th>\n",
       "      <td>-0.250000</td>\n",
       "    </tr>\n",
       "    <tr>\n",
       "      <th>25%</th>\n",
       "      <td>0.050350</td>\n",
       "    </tr>\n",
       "    <tr>\n",
       "      <th>50%</th>\n",
       "      <td>0.281300</td>\n",
       "    </tr>\n",
       "    <tr>\n",
       "      <th>75%</th>\n",
       "      <td>0.472425</td>\n",
       "    </tr>\n",
       "    <tr>\n",
       "      <th>max</th>\n",
       "      <td>0.599400</td>\n",
       "    </tr>\n",
       "  </tbody>\n",
       "</table>\n",
       "</div>"
      ],
      "text/plain": [
       "       Compound_Score\n",
       "count        6.000000\n",
       "mean         0.236917\n",
       "std          0.321130\n",
       "min         -0.250000\n",
       "25%          0.050350\n",
       "50%          0.281300\n",
       "75%          0.472425\n",
       "max          0.599400"
      ]
     },
     "execution_count": 25,
     "metadata": {},
     "output_type": "execute_result"
    }
   ],
   "source": [
    "scratch_df = pd.DataFrame({\"Sentences\":[sentence for sentence in reviews_example.tokenized_sentences], \"Compound_Score\":sent_compound_list})\n",
    "scratch_df.describe()"
   ]
  },
  {
   "cell_type": "code",
   "execution_count": 27,
   "metadata": {},
   "outputs": [
    {
     "name": "stdout",
     "output_type": "stream",
     "text": [
      "{'neg': 0.056, 'neu': 0.795, 'pos': 0.149, 'compound': 0.6851}\n",
      "3.06\n"
     ]
    }
   ],
   "source": [
    "test_review_polarity = vader.polarity_scores(reviews_example.raw_content)\n",
    "print(test_review_polarity)\n",
    "print(reviews_example.score)"
   ]
  },
  {
   "cell_type": "markdown",
   "metadata": {},
   "source": [
    "Applying VADER"
   ]
  },
  {
   "cell_type": "code",
   "execution_count": 28,
   "metadata": {},
   "outputs": [],
   "source": [
    "def vader_wrapper(user_review):    \n",
    "    if type(user_review) == list:\n",
    "        sent_compound_list = []\n",
    "        for sentence in user_review:\n",
    "            sent_compound_list.append(vader.polarity_scores(sentence)[\"compound\"])\n",
    "        polarity = np.array(sent_compound_list).mean()\n",
    "    else:\n",
    "        polarity = vader.polarity_scores(user_review)[\"compound\"]\n",
    "    return polarity"
   ]
  },
  {
   "cell_type": "code",
   "execution_count": 31,
   "metadata": {},
   "outputs": [
    {
     "data": {
      "text/html": [
       "<div>\n",
       "<style scoped>\n",
       "    .dataframe tbody tr th:only-of-type {\n",
       "        vertical-align: middle;\n",
       "    }\n",
       "\n",
       "    .dataframe tbody tr th {\n",
       "        vertical-align: top;\n",
       "    }\n",
       "\n",
       "    .dataframe thead th {\n",
       "        text-align: right;\n",
       "    }\n",
       "</style>\n",
       "<table border=\"1\" class=\"dataframe\">\n",
       "  <thead>\n",
       "    <tr style=\"text-align: right;\">\n",
       "      <th></th>\n",
       "      <th>Review</th>\n",
       "      <th>Zomato Score</th>\n",
       "      <th>Preproc_Sentences</th>\n",
       "      <th>Preproc_Review</th>\n",
       "      <th>content_polarity_vader</th>\n",
       "      <th>mean_sentence_polarity_vader</th>\n",
       "    </tr>\n",
       "  </thead>\n",
       "  <tbody>\n",
       "    <tr>\n",
       "      <th>4078</th>\n",
       "      <td>The food and drinks are amazing here.The beer ...</td>\n",
       "      <td>3.610</td>\n",
       "      <td>[The food and drinks are amazing here.The beer...</td>\n",
       "      <td>The food and drinks are amazing here.The beer ...</td>\n",
       "      <td>0.9245</td>\n",
       "      <td>0.577767</td>\n",
       "    </tr>\n",
       "    <tr>\n",
       "      <th>1843</th>\n",
       "      <td>I had gone for lunch a few days back and no do...</td>\n",
       "      <td>3.800</td>\n",
       "      <td>[I had gone for lunch a few days back and no d...</td>\n",
       "      <td>I had gone for lunch a few days back and no do...</td>\n",
       "      <td>-0.2136</td>\n",
       "      <td>-0.248600</td>\n",
       "    </tr>\n",
       "    <tr>\n",
       "      <th>5001</th>\n",
       "      <td>Cool Interior, Service was bit slow, Being a p...</td>\n",
       "      <td>3.610</td>\n",
       "      <td>[Cool Interior, Service was bit slow, Being a ...</td>\n",
       "      <td>Cool Interior, Service was bit slow, Being a p...</td>\n",
       "      <td>0.8750</td>\n",
       "      <td>0.875000</td>\n",
       "    </tr>\n",
       "    <tr>\n",
       "      <th>4042</th>\n",
       "      <td>They serve very small portions.. not at all wo...</td>\n",
       "      <td>3.610</td>\n",
       "      <td>[They serve very small portions .. not at all ...</td>\n",
       "      <td>They serve very small portions .. not at all w...</td>\n",
       "      <td>0.8494</td>\n",
       "      <td>0.181375</td>\n",
       "    </tr>\n",
       "    <tr>\n",
       "      <th>4686</th>\n",
       "      <td>Heard so much about this restaurant and went t...</td>\n",
       "      <td>3.225</td>\n",
       "      <td>[Heard so much about this restaurant and went ...</td>\n",
       "      <td>Heard so much about this restaurant and went t...</td>\n",
       "      <td>0.6187</td>\n",
       "      <td>0.206233</td>\n",
       "    </tr>\n",
       "  </tbody>\n",
       "</table>\n",
       "</div>"
      ],
      "text/plain": [
       "                                                 Review  Zomato Score  \\\n",
       "4078  The food and drinks are amazing here.The beer ...         3.610   \n",
       "1843  I had gone for lunch a few days back and no do...         3.800   \n",
       "5001  Cool Interior, Service was bit slow, Being a p...         3.610   \n",
       "4042  They serve very small portions.. not at all wo...         3.610   \n",
       "4686  Heard so much about this restaurant and went t...         3.225   \n",
       "\n",
       "                                      Preproc_Sentences  \\\n",
       "4078  [The food and drinks are amazing here.The beer...   \n",
       "1843  [I had gone for lunch a few days back and no d...   \n",
       "5001  [Cool Interior, Service was bit slow, Being a ...   \n",
       "4042  [They serve very small portions .. not at all ...   \n",
       "4686  [Heard so much about this restaurant and went ...   \n",
       "\n",
       "                                         Preproc_Review  \\\n",
       "4078  The food and drinks are amazing here.The beer ...   \n",
       "1843  I had gone for lunch a few days back and no do...   \n",
       "5001  Cool Interior, Service was bit slow, Being a p...   \n",
       "4042  They serve very small portions .. not at all w...   \n",
       "4686  Heard so much about this restaurant and went t...   \n",
       "\n",
       "      content_polarity_vader  mean_sentence_polarity_vader  \n",
       "4078                  0.9245                      0.577767  \n",
       "1843                 -0.2136                     -0.248600  \n",
       "5001                  0.8750                      0.875000  \n",
       "4042                  0.8494                      0.181375  \n",
       "4686                  0.6187                      0.206233  "
      ]
     },
     "execution_count": 31,
     "metadata": {},
     "output_type": "execute_result"
    }
   ],
   "source": [
    "reviews[\"content_polarity_vader\"] = reviews[\"Preproc_Review\"].map(lambda review: vader_wrapper(review))\n",
    "reviews[\"mean_sentence_polarity_vader\"] = reviews[\"Preproc_Sentences\"].map(lambda review: vader_wrapper(review))\n",
    "reviews.sample(5)"
   ]
  },
  {
   "cell_type": "markdown",
   "metadata": {},
   "source": [
    "Comparing Content Polarity with Mean Sentence Polarity"
   ]
  },
  {
   "cell_type": "code",
   "execution_count": 33,
   "metadata": {},
   "outputs": [
    {
     "data": {
      "text/plain": [
       "0.8198408093599588"
      ]
     },
     "execution_count": 33,
     "metadata": {},
     "output_type": "execute_result"
    }
   ],
   "source": [
    "pearson_r, p_value = pearsonr(reviews[\"mean_sentence_polarity_vader\"],reviews[\"content_polarity_vader\"])\n",
    "pearson_r"
   ]
  },
  {
   "cell_type": "markdown",
   "metadata": {},
   "source": [
    "### Using TextBlob"
   ]
  },
  {
   "cell_type": "markdown",
   "metadata": {},
   "source": [
    "Testing"
   ]
  },
  {
   "cell_type": "code",
   "execution_count": 34,
   "metadata": {},
   "outputs": [
    {
     "data": {
      "text/plain": [
       "Sentiment(polarity=0.0859375, subjectivity=0.653125)"
      ]
     },
     "execution_count": 34,
     "metadata": {},
     "output_type": "execute_result"
    }
   ],
   "source": [
    "test_blob = TextBlob(reviews_example.raw_content)\n",
    "test_blob.sentiment"
   ]
  },
  {
   "cell_type": "code",
   "execution_count": 35,
   "metadata": {},
   "outputs": [],
   "source": [
    "def textblob_wrapper(user_review):   \n",
    "    if type(user_review) == list:\n",
    "        sent_compound_list = []\n",
    "        for sentence in user_review:\n",
    "            sent_compound_list.append(TextBlob(sentence).sentiment.polarity)\n",
    "        polarity = np.array(sent_compound_list).mean()\n",
    "    else:\n",
    "        polarity = TextBlob(user_review).sentiment.polarity\n",
    "    return polarity"
   ]
  },
  {
   "cell_type": "code",
   "execution_count": 38,
   "metadata": {},
   "outputs": [
    {
     "data": {
      "text/plain": [
       "0.12847"
      ]
     },
     "execution_count": 38,
     "metadata": {},
     "output_type": "execute_result"
    }
   ],
   "source": [
    "round(textblob_wrapper(reviews_example.tokenized_sentences), 5)"
   ]
  },
  {
   "cell_type": "markdown",
   "metadata": {},
   "source": [
    "Applying"
   ]
  },
  {
   "cell_type": "code",
   "execution_count": 39,
   "metadata": {},
   "outputs": [],
   "source": [
    "reviews[\"content_polarity_textblob\"] = reviews[\"Preproc_Review\"].map(lambda review : textblob_wrapper(review))\n",
    "reviews[\"mean_sentence_polarity_textblob\"] = reviews[\"Preproc_Sentences\"].map(lambda review : textblob_wrapper(review))"
   ]
  },
  {
   "cell_type": "code",
   "execution_count": 40,
   "metadata": {},
   "outputs": [
    {
     "data": {
      "text/plain": [
       "0.9547798375129646"
      ]
     },
     "execution_count": 40,
     "metadata": {},
     "output_type": "execute_result"
    }
   ],
   "source": [
    "pearson_r, p_value = pearsonr(reviews[\"mean_sentence_polarity_textblob\"],reviews[\"content_polarity_textblob\"])\n",
    "pearson_r"
   ]
  },
  {
   "cell_type": "markdown",
   "metadata": {},
   "source": [
    "### Comparing the SA results against the average zomato score of the restaurant"
   ]
  },
  {
   "cell_type": "code",
   "execution_count": 41,
   "metadata": {},
   "outputs": [
    {
     "data": {
      "text/plain": [
       "0.33125399788032617"
      ]
     },
     "execution_count": 41,
     "metadata": {},
     "output_type": "execute_result"
    }
   ],
   "source": [
    "pearson_r, p_value = pearsonr(reviews[\"Zomato Score\"],reviews[\"content_polarity_vader\"])\n",
    "pearson_r"
   ]
  },
  {
   "cell_type": "code",
   "execution_count": 42,
   "metadata": {},
   "outputs": [
    {
     "data": {
      "text/plain": [
       "0.33125399788032656"
      ]
     },
     "execution_count": 42,
     "metadata": {},
     "output_type": "execute_result"
    }
   ],
   "source": [
    "scaler = preprocessing.MinMaxScaler()\n",
    "#The \"reshape(-1,1)\" is there to make sure that the column is fed as a 2D (4915 x 1) array\n",
    "normalized_score = scaler.fit_transform(reviews[\"Zomato Score\"].to_numpy().reshape(-1, 1))\n",
    "normalized_polarity_vader = scaler.fit_transform(reviews[\"content_polarity_vader\"].to_numpy().reshape(-1, 1))\n",
    "\n",
    "#The \"reshape(-1)\" is there to flatten the 2D array into a 1D array\n",
    "pearson_r, p_value = pearsonr(normalized_score.reshape(-1), normalized_polarity_vader.reshape(-1))\n",
    "pearson_r"
   ]
  },
  {
   "cell_type": "code",
   "execution_count": 43,
   "metadata": {},
   "outputs": [
    {
     "name": "stdout",
     "output_type": "stream",
     "text": [
      "RMSE: 0.39; MAPE: 20528180076598.91\n"
     ]
    },
    {
     "name": "stderr",
     "output_type": "stream",
     "text": [
      "c:\\Users\\msard\\anaconda3\\envs\\textmining\\lib\\site-packages\\sklearn\\metrics\\_regression.py:492: FutureWarning: 'squared' is deprecated in version 1.4 and will be removed in 1.6. To calculate the root mean squared error, use the function'root_mean_squared_error'.\n",
      "  warnings.warn(\n"
     ]
    }
   ],
   "source": [
    "rmse = mean_squared_error(normalized_score.reshape(-1), normalized_polarity_vader.reshape(-1), squared=False)\n",
    "mape = mean_absolute_percentage_error(normalized_score.reshape(-1), normalized_polarity_vader.reshape(-1))\n",
    "print(\"RMSE: {}; MAPE: {}\".format(round(rmse, 3), round(mape, 3)))"
   ]
  },
  {
   "cell_type": "code",
   "execution_count": 44,
   "metadata": {},
   "outputs": [
    {
     "name": "stdout",
     "output_type": "stream",
     "text": [
      "RMSE: 0.39; MAPE: 0.238\n"
     ]
    },
    {
     "name": "stderr",
     "output_type": "stream",
     "text": [
      "c:\\Users\\msard\\anaconda3\\envs\\textmining\\lib\\site-packages\\sklearn\\metrics\\_regression.py:492: FutureWarning: 'squared' is deprecated in version 1.4 and will be removed in 1.6. To calculate the root mean squared error, use the function'root_mean_squared_error'.\n",
      "  warnings.warn(\n"
     ]
    }
   ],
   "source": [
    "rmse = mean_squared_error(normalized_score.reshape(-1), normalized_polarity_vader.reshape(-1), squared=False)\n",
    "mape = mean_absolute_percentage_error(normalized_score.reshape(-1)+1, normalized_polarity_vader.reshape(-1)+1)\n",
    "\n",
    "print(\"RMSE: {}; MAPE: {}\".format(round(rmse, 3), round(mape, 3)))"
   ]
  },
  {
   "cell_type": "markdown",
   "metadata": {},
   "source": [
    "### Summary"
   ]
  },
  {
   "cell_type": "code",
   "execution_count": 45,
   "metadata": {},
   "outputs": [
    {
     "data": {
      "text/html": [
       "<div>\n",
       "<style scoped>\n",
       "    .dataframe tbody tr th:only-of-type {\n",
       "        vertical-align: middle;\n",
       "    }\n",
       "\n",
       "    .dataframe tbody tr th {\n",
       "        vertical-align: top;\n",
       "    }\n",
       "\n",
       "    .dataframe thead th {\n",
       "        text-align: right;\n",
       "    }\n",
       "</style>\n",
       "<table border=\"1\" class=\"dataframe\">\n",
       "  <thead>\n",
       "    <tr style=\"text-align: right;\">\n",
       "      <th></th>\n",
       "      <th>Zomato Score</th>\n",
       "      <th>content_polarity_vader</th>\n",
       "      <th>mean_sentence_polarity_vader</th>\n",
       "      <th>content_polarity_textblob</th>\n",
       "      <th>mean_sentence_polarity_textblob</th>\n",
       "      <th>normalized_score</th>\n",
       "      <th>normalized_polarity_vader</th>\n",
       "    </tr>\n",
       "  </thead>\n",
       "  <tbody>\n",
       "    <tr>\n",
       "      <th>count</th>\n",
       "      <td>9955.000000</td>\n",
       "      <td>9955.000000</td>\n",
       "      <td>9955.000000</td>\n",
       "      <td>9.955000e+03</td>\n",
       "      <td>9955.000000</td>\n",
       "      <td>9955.000000</td>\n",
       "      <td>9955.000000</td>\n",
       "    </tr>\n",
       "    <tr>\n",
       "      <th>mean</th>\n",
       "      <td>3.600263</td>\n",
       "      <td>0.475257</td>\n",
       "      <td>0.275961</td>\n",
       "      <td>2.492013e-01</td>\n",
       "      <td>0.226977</td>\n",
       "      <td>0.483977</td>\n",
       "      <td>0.736976</td>\n",
       "    </tr>\n",
       "    <tr>\n",
       "      <th>std</th>\n",
       "      <td>0.505936</td>\n",
       "      <td>0.585091</td>\n",
       "      <td>0.373486</td>\n",
       "      <td>3.644299e-01</td>\n",
       "      <td>0.336662</td>\n",
       "      <td>0.204007</td>\n",
       "      <td>0.293441</td>\n",
       "    </tr>\n",
       "    <tr>\n",
       "      <th>min</th>\n",
       "      <td>2.400000</td>\n",
       "      <td>-0.994200</td>\n",
       "      <td>-0.972100</td>\n",
       "      <td>-1.000000e+00</td>\n",
       "      <td>-1.000000</td>\n",
       "      <td>0.000000</td>\n",
       "      <td>0.000000</td>\n",
       "    </tr>\n",
       "    <tr>\n",
       "      <th>25%</th>\n",
       "      <td>3.230000</td>\n",
       "      <td>0.000000</td>\n",
       "      <td>0.000000</td>\n",
       "      <td>5.551115e-17</td>\n",
       "      <td>0.000000</td>\n",
       "      <td>0.334677</td>\n",
       "      <td>0.498621</td>\n",
       "    </tr>\n",
       "    <tr>\n",
       "      <th>50%</th>\n",
       "      <td>3.610000</td>\n",
       "      <td>0.765000</td>\n",
       "      <td>0.318200</td>\n",
       "      <td>2.750000e-01</td>\n",
       "      <td>0.233510</td>\n",
       "      <td>0.487903</td>\n",
       "      <td>0.882291</td>\n",
       "    </tr>\n",
       "    <tr>\n",
       "      <th>75%</th>\n",
       "      <td>3.845000</td>\n",
       "      <td>0.935900</td>\n",
       "      <td>0.503653</td>\n",
       "      <td>5.034524e-01</td>\n",
       "      <td>0.451181</td>\n",
       "      <td>0.582661</td>\n",
       "      <td>0.968002</td>\n",
       "    </tr>\n",
       "    <tr>\n",
       "      <th>max</th>\n",
       "      <td>4.880000</td>\n",
       "      <td>0.999700</td>\n",
       "      <td>0.995000</td>\n",
       "      <td>1.000000e+00</td>\n",
       "      <td>1.000000</td>\n",
       "      <td>1.000000</td>\n",
       "      <td>1.000000</td>\n",
       "    </tr>\n",
       "  </tbody>\n",
       "</table>\n",
       "</div>"
      ],
      "text/plain": [
       "       Zomato Score  content_polarity_vader  mean_sentence_polarity_vader  \\\n",
       "count   9955.000000             9955.000000                   9955.000000   \n",
       "mean       3.600263                0.475257                      0.275961   \n",
       "std        0.505936                0.585091                      0.373486   \n",
       "min        2.400000               -0.994200                     -0.972100   \n",
       "25%        3.230000                0.000000                      0.000000   \n",
       "50%        3.610000                0.765000                      0.318200   \n",
       "75%        3.845000                0.935900                      0.503653   \n",
       "max        4.880000                0.999700                      0.995000   \n",
       "\n",
       "       content_polarity_textblob  mean_sentence_polarity_textblob  \\\n",
       "count               9.955000e+03                      9955.000000   \n",
       "mean                2.492013e-01                         0.226977   \n",
       "std                 3.644299e-01                         0.336662   \n",
       "min                -1.000000e+00                        -1.000000   \n",
       "25%                 5.551115e-17                         0.000000   \n",
       "50%                 2.750000e-01                         0.233510   \n",
       "75%                 5.034524e-01                         0.451181   \n",
       "max                 1.000000e+00                         1.000000   \n",
       "\n",
       "       normalized_score  normalized_polarity_vader  \n",
       "count       9955.000000                9955.000000  \n",
       "mean           0.483977                   0.736976  \n",
       "std            0.204007                   0.293441  \n",
       "min            0.000000                   0.000000  \n",
       "25%            0.334677                   0.498621  \n",
       "50%            0.487903                   0.882291  \n",
       "75%            0.582661                   0.968002  \n",
       "max            1.000000                   1.000000  "
      ]
     },
     "execution_count": 45,
     "metadata": {},
     "output_type": "execute_result"
    }
   ],
   "source": [
    "reviews[\"normalized_score\"] = normalized_score.reshape(-1)\n",
    "reviews[\"normalized_polarity_vader\"] = normalized_polarity_vader.reshape(-1)\n",
    "reviews.describe()"
   ]
  },
  {
   "cell_type": "code",
   "execution_count": 46,
   "metadata": {},
   "outputs": [
    {
     "data": {
      "image/png": "[encoded data removed]",
      "text/plain": [
       "<Figure size 500x500 with 1 Axes>"
      ]
     },
     "metadata": {},
     "output_type": "display_data"
    }
   ],
   "source": [
    "score_graph = sns.displot(reviews[\"normalized_score\"], kde=True, bins=5)\n",
    "plt.ylim(0, 5000)\n",
    "plt.show()"
   ]
  },
  {
   "cell_type": "code",
   "execution_count": 47,
   "metadata": {},
   "outputs": [
    {
     "data": {
      "image/png": "[encoded data removed]",
      "text/plain": [
       "<Figure size 500x500 with 1 Axes>"
      ]
     },
     "metadata": {},
     "output_type": "display_data"
    }
   ],
   "source": [
    "polarity_graph = sns.displot(reviews[\"normalized_polarity_vader\"], kde=True, bins=5)\n",
    "plt.ylim(0, 5000)\n",
    "plt.show()"
   ]
  },
  {
   "cell_type": "code",
   "execution_count": 50,
   "metadata": {},
   "outputs": [
    {
     "data": {
      "image/png": "[encoded data removed]",
      "text/plain": [
       "<Figure size 640x480 with 1 Axes>"
      ]
     },
     "metadata": {},
     "output_type": "display_data"
    }
   ],
   "source": [
    "# Ensure the 'overall_cat' column is formatted correctly\n",
    "reviews[\"overall_cat\"] = reviews[\"Zomato Score\"].apply(lambda score: f\"{score:.1f}\")\n",
    "\n",
    "# Create the boxplot with the correct order\n",
    "sns.boxplot(data=reviews, x=\"normalized_polarity_vader\", y=\"overall_cat\", order=[\"5.0\", \"4.0\", \"3.0\", \"2.0\", \"1.0\"])\n",
    "plt.show()"
   ]
  },
  {
   "cell_type": "code",
   "execution_count": 51,
   "metadata": {},
   "outputs": [
    {
     "name": "stdout",
     "output_type": "stream",
     "text": [
      "Pearson R: 0.292; RMSE: 0.27; MAPE: 0.155\n"
     ]
    },
    {
     "name": "stderr",
     "output_type": "stream",
     "text": [
      "c:\\Users\\msard\\anaconda3\\envs\\textmining\\lib\\site-packages\\sklearn\\metrics\\_regression.py:492: FutureWarning: 'squared' is deprecated in version 1.4 and will be removed in 1.6. To calculate the root mean squared error, use the function'root_mean_squared_error'.\n",
      "  warnings.warn(\n"
     ]
    }
   ],
   "source": [
    "normalized_polarity_textblob = scaler.fit_transform(reviews[\"content_polarity_textblob\"].to_numpy().reshape(-1, 1))\n",
    "reviews[\"normalized_polarity_textblob\"] = normalized_polarity_textblob.reshape(-1)\n",
    "pearson_r, p_value = pearsonr(normalized_score.reshape(-1), normalized_polarity_textblob.reshape(-1))\n",
    "rmse = mean_squared_error(normalized_score.reshape(-1), normalized_polarity_textblob.reshape(-1), squared=False)\n",
    "mape = mean_absolute_percentage_error(normalized_score.reshape(-1)+1, normalized_polarity_textblob.reshape(-1)+1)\n",
    "\n",
    "print(\"Pearson R: {}; RMSE: {}; MAPE: {}\".format(round(pearson_r, 3), round(rmse, 3), round(mape, 3)))"
   ]
  },
  {
   "cell_type": "code",
   "execution_count": 52,
   "metadata": {},
   "outputs": [
    {
     "data": {
      "image/png": "[encoded data removed]",
      "text/plain": [
       "<Figure size 640x480 with 1 Axes>"
      ]
     },
     "metadata": {},
     "output_type": "display_data"
    }
   ],
   "source": [
    "sns.boxplot(data=reviews, x=\"normalized_polarity_textblob\", y=\"overall_cat\", order=[\"5.0\", \"4.0\", \"3.0\", \"2.0\", \"1.0\"])\n",
    "plt.show()"
   ]
  },
  {
   "cell_type": "markdown",
   "metadata": {},
   "source": [
    "### Comparing VADER and TextBlob"
   ]
  },
  {
   "cell_type": "code",
   "execution_count": 54,
   "metadata": {},
   "outputs": [
    {
     "data": {
      "text/plain": [
       "0.658923407493906"
      ]
     },
     "execution_count": 54,
     "metadata": {},
     "output_type": "execute_result"
    }
   ],
   "source": [
    "pearson_r, p_value = pearsonr(reviews[\"normalized_polarity_vader\"],reviews[\"normalized_polarity_textblob\"])\n",
    "pearson_r"
   ]
  },
  {
   "cell_type": "code",
   "execution_count": 55,
   "metadata": {},
   "outputs": [
    {
     "data": {
      "text/plain": [
       "<Axes: xlabel='normalized_polarity_vader', ylabel='normalized_polarity_textblob'>"
      ]
     },
     "execution_count": 55,
     "metadata": {},
     "output_type": "execute_result"
    },
    {
     "data": {
      "image/png": "[encoded data removed]",
      "text/plain": [
       "<Figure size 640x480 with 1 Axes>"
      ]
     },
     "metadata": {},
     "output_type": "display_data"
    }
   ],
   "source": [
    "sns.regplot(data=reviews, x=\"normalized_polarity_vader\", y=\"normalized_polarity_textblob\")"
   ]
  },
  {
   "cell_type": "code",
   "execution_count": 56,
   "metadata": {},
   "outputs": [
    {
     "data": {
      "text/html": [
       "<div>\n",
       "<style scoped>\n",
       "    .dataframe tbody tr th:only-of-type {\n",
       "        vertical-align: middle;\n",
       "    }\n",
       "\n",
       "    .dataframe tbody tr th {\n",
       "        vertical-align: top;\n",
       "    }\n",
       "\n",
       "    .dataframe thead th {\n",
       "        text-align: right;\n",
       "    }\n",
       "</style>\n",
       "<table border=\"1\" class=\"dataframe\">\n",
       "  <thead>\n",
       "    <tr style=\"text-align: right;\">\n",
       "      <th></th>\n",
       "      <th>Zomato Score</th>\n",
       "      <th>content_polarity_vader</th>\n",
       "      <th>mean_sentence_polarity_vader</th>\n",
       "      <th>content_polarity_textblob</th>\n",
       "      <th>mean_sentence_polarity_textblob</th>\n",
       "      <th>normalized_score</th>\n",
       "      <th>normalized_polarity_vader</th>\n",
       "      <th>normalized_polarity_textblob</th>\n",
       "    </tr>\n",
       "  </thead>\n",
       "  <tbody>\n",
       "    <tr>\n",
       "      <th>count</th>\n",
       "      <td>9955.000000</td>\n",
       "      <td>9955.000000</td>\n",
       "      <td>9955.000000</td>\n",
       "      <td>9.955000e+03</td>\n",
       "      <td>9955.000000</td>\n",
       "      <td>9955.000000</td>\n",
       "      <td>9955.000000</td>\n",
       "      <td>9955.000000</td>\n",
       "    </tr>\n",
       "    <tr>\n",
       "      <th>mean</th>\n",
       "      <td>3.600263</td>\n",
       "      <td>0.475257</td>\n",
       "      <td>0.275961</td>\n",
       "      <td>2.492013e-01</td>\n",
       "      <td>0.226977</td>\n",
       "      <td>0.483977</td>\n",
       "      <td>0.736976</td>\n",
       "      <td>0.624601</td>\n",
       "    </tr>\n",
       "    <tr>\n",
       "      <th>std</th>\n",
       "      <td>0.505936</td>\n",
       "      <td>0.585091</td>\n",
       "      <td>0.373486</td>\n",
       "      <td>3.644299e-01</td>\n",
       "      <td>0.336662</td>\n",
       "      <td>0.204007</td>\n",
       "      <td>0.293441</td>\n",
       "      <td>0.182215</td>\n",
       "    </tr>\n",
       "    <tr>\n",
       "      <th>min</th>\n",
       "      <td>2.400000</td>\n",
       "      <td>-0.994200</td>\n",
       "      <td>-0.972100</td>\n",
       "      <td>-1.000000e+00</td>\n",
       "      <td>-1.000000</td>\n",
       "      <td>0.000000</td>\n",
       "      <td>0.000000</td>\n",
       "      <td>0.000000</td>\n",
       "    </tr>\n",
       "    <tr>\n",
       "      <th>25%</th>\n",
       "      <td>3.230000</td>\n",
       "      <td>0.000000</td>\n",
       "      <td>0.000000</td>\n",
       "      <td>5.551115e-17</td>\n",
       "      <td>0.000000</td>\n",
       "      <td>0.334677</td>\n",
       "      <td>0.498621</td>\n",
       "      <td>0.500000</td>\n",
       "    </tr>\n",
       "    <tr>\n",
       "      <th>50%</th>\n",
       "      <td>3.610000</td>\n",
       "      <td>0.765000</td>\n",
       "      <td>0.318200</td>\n",
       "      <td>2.750000e-01</td>\n",
       "      <td>0.233510</td>\n",
       "      <td>0.487903</td>\n",
       "      <td>0.882291</td>\n",
       "      <td>0.637500</td>\n",
       "    </tr>\n",
       "    <tr>\n",
       "      <th>75%</th>\n",
       "      <td>3.845000</td>\n",
       "      <td>0.935900</td>\n",
       "      <td>0.503653</td>\n",
       "      <td>5.034524e-01</td>\n",
       "      <td>0.451181</td>\n",
       "      <td>0.582661</td>\n",
       "      <td>0.968002</td>\n",
       "      <td>0.751726</td>\n",
       "    </tr>\n",
       "    <tr>\n",
       "      <th>max</th>\n",
       "      <td>4.880000</td>\n",
       "      <td>0.999700</td>\n",
       "      <td>0.995000</td>\n",
       "      <td>1.000000e+00</td>\n",
       "      <td>1.000000</td>\n",
       "      <td>1.000000</td>\n",
       "      <td>1.000000</td>\n",
       "      <td>1.000000</td>\n",
       "    </tr>\n",
       "  </tbody>\n",
       "</table>\n",
       "</div>"
      ],
      "text/plain": [
       "       Zomato Score  content_polarity_vader  mean_sentence_polarity_vader  \\\n",
       "count   9955.000000             9955.000000                   9955.000000   \n",
       "mean       3.600263                0.475257                      0.275961   \n",
       "std        0.505936                0.585091                      0.373486   \n",
       "min        2.400000               -0.994200                     -0.972100   \n",
       "25%        3.230000                0.000000                      0.000000   \n",
       "50%        3.610000                0.765000                      0.318200   \n",
       "75%        3.845000                0.935900                      0.503653   \n",
       "max        4.880000                0.999700                      0.995000   \n",
       "\n",
       "       content_polarity_textblob  mean_sentence_polarity_textblob  \\\n",
       "count               9.955000e+03                      9955.000000   \n",
       "mean                2.492013e-01                         0.226977   \n",
       "std                 3.644299e-01                         0.336662   \n",
       "min                -1.000000e+00                        -1.000000   \n",
       "25%                 5.551115e-17                         0.000000   \n",
       "50%                 2.750000e-01                         0.233510   \n",
       "75%                 5.034524e-01                         0.451181   \n",
       "max                 1.000000e+00                         1.000000   \n",
       "\n",
       "       normalized_score  normalized_polarity_vader  \\\n",
       "count       9955.000000                9955.000000   \n",
       "mean           0.483977                   0.736976   \n",
       "std            0.204007                   0.293441   \n",
       "min            0.000000                   0.000000   \n",
       "25%            0.334677                   0.498621   \n",
       "50%            0.487903                   0.882291   \n",
       "75%            0.582661                   0.968002   \n",
       "max            1.000000                   1.000000   \n",
       "\n",
       "       normalized_polarity_textblob  \n",
       "count                   9955.000000  \n",
       "mean                       0.624601  \n",
       "std                        0.182215  \n",
       "min                        0.000000  \n",
       "25%                        0.500000  \n",
       "50%                        0.637500  \n",
       "75%                        0.751726  \n",
       "max                        1.000000  "
      ]
     },
     "execution_count": 56,
     "metadata": {},
     "output_type": "execute_result"
    }
   ],
   "source": [
    "reviews.describe()"
   ]
  }
 ],
 "metadata": {
  "kernelspec": {
   "display_name": "textmining",
   "language": "python",
   "name": "python3"
  },
  "language_info": {
   "codemirror_mode": {
    "name": "ipython",
    "version": 3
   },
   "file_extension": ".py",
   "mimetype": "text/x-python",
   "name": "python",
   "nbconvert_exporter": "python",
   "pygments_lexer": "ipython3",
   "version": "3.10.15"
  }
 },
 "nbformat": 4,
 "nbformat_minor": 2
}
