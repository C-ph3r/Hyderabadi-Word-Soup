{
 "cells": [
  {
   "cell_type": "markdown",
   "metadata": {},
   "source": [
    "## Sentiment Analysis"
   ]
  },
  {
   "cell_type": "markdown",
   "metadata": {},
   "source": [
    "Objective: How well can we predict a restaurant’s Zomato score using the polarity of their reviews as input?"
   ]
  },
  {
   "cell_type": "markdown",
   "metadata": {},
   "source": [
    "### Imports"
   ]
  },
  {
   "cell_type": "code",
   "execution_count": 7,
   "metadata": {},
   "outputs": [
    {
     "name": "stdout",
     "output_type": "stream",
     "text": [
      "The autoreload extension is already loaded. To reload it, use:\n",
      "  %reload_ext autoreload\n"
     ]
    },
    {
     "name": "stderr",
     "output_type": "stream",
     "text": [
      "[nltk_data] Downloading package vader_lexicon to\n",
      "[nltk_data]     C:\\Users\\renat\\AppData\\Roaming\\nltk_data...\n"
     ]
    }
   ],
   "source": [
    "%load_ext autoreload\n",
    "%autoreload 2\n",
    "\n",
    "import pandas as pd\n",
    "import numpy as np\n",
    "import re\n",
    "import nltk\n",
    "import statistics\n",
    "import random\n",
    "import sys, os\n",
    "\n",
    "#Preprocessing\n",
    "sys.path.append(os.path.abspath(os.path.join(os.getcwd(), '..', 'utils')))\n",
    "from pipeline import *\n",
    "from nltk.tokenize import word_tokenize\n",
    "from nltk.tokenize import PunktSentenceTokenizer\n",
    "from textblob import TextBlob\n",
    "sent_tokenizer = PunktSentenceTokenizer()\n",
    "\n",
    "\n",
    "#Vectorization\n",
    "from sklearn.feature_extraction.text import CountVectorizer\n",
    "from sklearn.feature_extraction.text import TfidfVectorizer\n",
    "from gensim.models.doc2vec import Doc2Vec, TaggedDocument\n",
    "\n",
    "#Sentiment Analysis with VADER\n",
    "nltk.download('vader_lexicon')\n",
    "from nltk.sentiment.vader import SentimentIntensityAnalyzer\n",
    "\n",
    "#Sentiment Analysis with TextBlob\n",
    "#%pip install textblob\n",
    "from textblob import TextBlob\n",
    "\n",
    "#Classification and Metrics\n",
    "from sklearn.model_selection import train_test_split\n",
    "from sklearn.model_selection import StratifiedKFold\n",
    "from sklearn.naive_bayes import MultinomialNB\n",
    "from sklearn.naive_bayes import GaussianNB\n",
    "from sklearn import metrics\n",
    "\n",
    "from scipy.stats import pearsonr\n",
    "from sklearn import preprocessing\n",
    "from sklearn.metrics import mean_squared_error\n",
    "from sklearn.metrics import mean_absolute_percentage_error\n",
    "\n",
    "\n",
    "#Visualization\n",
    "import matplotlib.pyplot as plt\n",
    "import seaborn as sns\n",
    "import plotly.express as px\n",
    "import plotly.graph_objects as go\n",
    "from wordcloud import WordCloud\n",
    "from tqdm import tqdm\n",
    "\n",
    "\n",
    "import nltk\n",
    "nltk.download('punkt')\n",
    "nltk.download('punkt_tab')\n",
    "\n",
    "import pipeline"
   ]
  },
  {
   "cell_type": "markdown",
   "metadata": {},
   "source": [
    "### Preprocessing"
   ]
  },
  {
   "cell_type": "code",
   "execution_count": 8,
   "metadata": {},
   "outputs": [],
   "source": [
    "def sentiment_preproc(reviews):\n",
    "    '''\n",
    "    Prepares the raw reviews dataset for the sentiment analysis task\n",
    "    Since the requirement is to use review polarity to predict Zomato score, the remaining columns are no longer needed for this task\n",
    "    Note that we assume the Zomato score as the average of all reviews of this restaurant.\n",
    "    '''\n",
    "    # Drops unnecessary columns and null rows\n",
    "    reviews.drop(['Reviewer', 'Metadata', 'Time', 'Pictures'], axis=1, inplace=True)\n",
    "    reviews.dropna(subset=['Review', 'Rating'], inplace=True)\n",
    "  \n",
    "    # Converts the rating column to numeric\n",
    "    reviews['Rating'] = pd.to_numeric(reviews['Rating'], errors='coerce')\n",
    "\n",
    "    # Groups by restaurant and calculates the mean rating\n",
    "    average_ratings = reviews.groupby('Restaurant')['Rating'].mean().reset_index()\n",
    "    average_ratings.rename(columns={'Rating': 'Zomato Score'}, inplace=True)\n",
    "\n",
    "    # Merges this with the original df to add the column\n",
    "    reviews = reviews.merge(average_ratings, on='Restaurant', how='left')\n",
    "\n",
    "    # Removes the unneeded restaurant column\n",
    "    reviews.drop(['Restaurant', 'Rating'], axis=1, inplace=True)\n",
    "\n",
    "    return reviews"
   ]
  },
  {
   "cell_type": "code",
   "execution_count": 10,
   "metadata": {},
   "outputs": [
    {
     "data": {
      "text/html": [
       "<div>\n",
       "<style scoped>\n",
       "    .dataframe tbody tr th:only-of-type {\n",
       "        vertical-align: middle;\n",
       "    }\n",
       "\n",
       "    .dataframe tbody tr th {\n",
       "        vertical-align: top;\n",
       "    }\n",
       "\n",
       "    .dataframe thead th {\n",
       "        text-align: right;\n",
       "    }\n",
       "</style>\n",
       "<table border=\"1\" class=\"dataframe\">\n",
       "  <thead>\n",
       "    <tr style=\"text-align: right;\">\n",
       "      <th></th>\n",
       "      <th>Review</th>\n",
       "      <th>Zomato Score</th>\n",
       "    </tr>\n",
       "  </thead>\n",
       "  <tbody>\n",
       "    <tr>\n",
       "      <th>7594</th>\n",
       "      <td>good</td>\n",
       "      <td>3.740</td>\n",
       "    </tr>\n",
       "    <tr>\n",
       "      <th>4299</th>\n",
       "      <td>Big fan of All day Breakfast in bed? Order fro...</td>\n",
       "      <td>3.580</td>\n",
       "    </tr>\n",
       "    <tr>\n",
       "      <th>4497</th>\n",
       "      <td>This restaurant has its priorities straight. U...</td>\n",
       "      <td>3.190</td>\n",
       "    </tr>\n",
       "    <tr>\n",
       "      <th>4651</th>\n",
       "      <td>We went on the new year day. Menu was limited....</td>\n",
       "      <td>3.225</td>\n",
       "    </tr>\n",
       "    <tr>\n",
       "      <th>682</th>\n",
       "      <td>Taste is not good and also not freshly prepare...</td>\n",
       "      <td>3.200</td>\n",
       "    </tr>\n",
       "  </tbody>\n",
       "</table>\n",
       "</div>"
      ],
      "text/plain": [
       "                                                 Review  Zomato Score\n",
       "7594                                               good         3.740\n",
       "4299  Big fan of All day Breakfast in bed? Order fro...         3.580\n",
       "4497  This restaurant has its priorities straight. U...         3.190\n",
       "4651  We went on the new year day. Menu was limited....         3.225\n",
       "682   Taste is not good and also not freshly prepare...         3.200"
      ]
     },
     "execution_count": 10,
     "metadata": {},
     "output_type": "execute_result"
    }
   ],
   "source": [
    "# Importing the dataset, and preparing it for analysis\n",
    "reviews = pd.read_csv(r'C:\\Users\\renat\\Desktop\\gitrep\\Hyderabadi-Word-Soup\\data_hyderabad\\10k_reviews.csv')\n",
    "reviews = sentiment_preproc(reviews)\n",
    "reviews.sample(5)"
   ]
  },
  {
   "cell_type": "code",
   "execution_count": 11,
   "metadata": {},
   "outputs": [],
   "source": [
    "# Creating the example class for sentiment analysis\n",
    "class SA_Example():\n",
    "    def __init__(self, example_row) -> None:\n",
    "        self.index = example_row.index[0]\n",
    "        self.score = example_row[\"Zomato Score\"].values[0]\n",
    "        self.raw_content = example_row[\"Review\"].values[0]"
   ]
  },
  {
   "cell_type": "code",
   "execution_count": 12,
   "metadata": {},
   "outputs": [],
   "source": [
    "# Store the result as an example object\n",
    "reviews_row = reviews.loc[reviews[\"Review\"] == reviews.Review.sample(1).values[0]]\n",
    "reviews_example = SA_Example(reviews_row)"
   ]
  },
  {
   "cell_type": "markdown",
   "metadata": {},
   "source": [
    "Since we are using VADER:\n",
    "- Letter case should be preserved\n",
    "- Stopwords should be preserved\n",
    "- Punctuation should be preserved"
   ]
  },
  {
   "cell_type": "code",
   "execution_count": 21,
   "metadata": {},
   "outputs": [],
   "source": []
  },
  {
   "cell_type": "code",
   "execution_count": 23,
   "metadata": {},
   "outputs": [],
   "source": [
    "\n",
    "\n",
    "reviews[\"Preproc_Review\"] =\\\n",
    "      reviews[\"Review\"].map(lambda content :pipeline.main_pipeline(content,\n",
    "                                                                        print_output=False,\n",
    "                                                                        no_stopwords=False,\n",
    "                                                                        lowercase=False,\n",
    "                                                                        lemmatized=False,\n",
    "                                                                        no_punctuation=False\n",
    "                                                                        ))"
   ]
  },
  {
   "cell_type": "code",
   "execution_count": 19,
   "metadata": {},
   "outputs": [
    {
     "data": {
      "text/plain": [
       "['On weekend we were in search of restaurant to have hyderabadi dum biryani.',\n",
       " 'As we entered out of office we found number of restaurants(all were busy).',\n",
       " 'We found this restaurant in the third floor and thought of visiting this place becoz it is third floor and will not be much crowded but surprisingly people where waiting for seats.',\n",
       " 'We ordered for chicken kebabs for starter which was perfectly cooked with awesome taste and after that we ordered chicken biryani which was came up with nice quality and superb taste with good enough quantity.',\n",
       " 'By the seeing the price of biryani we got shocked and after looking at the biryani quantity surprised.',\n",
       " 'Serious it was good quantity for the price.',\n",
       " 'After a gap of two weeks we again visited the place have Al mandi and we order for grilled chicken mandi which of average taste.']"
      ]
     },
     "execution_count": 19,
     "metadata": {},
     "output_type": "execute_result"
    }
   ],
   "source": [
    "sent_tokenizer = PunktSentenceTokenizer()\n",
    "reviews_example.tokenized_sentences = sent_tokenizer.tokenize(reviews_example.raw_content)\n",
    "reviews_example.tokenized_sentences"
   ]
  },
  {
   "cell_type": "code",
   "execution_count": 24,
   "metadata": {},
   "outputs": [],
   "source": [
    "reviews[\"Preproc_Sentences\"] =\\\n",
    "      reviews[\"Review\"].map(lambda content : [pipeline.main_pipeline(sentence,\n",
    "                                                                            print_output=False,\n",
    "                                                                            no_stopwords=False,\n",
    "                                                                            lowercase=False,\n",
    "                                                                            lemmatized=False,\n",
    "                                                                            no_punctuation=False\n",
    "                                                                            ) for sentence in sent_tokenizer.tokenize(content)])"
   ]
  },
  {
   "cell_type": "markdown",
   "metadata": {},
   "source": [
    "### VADER sentiment analyser"
   ]
  },
  {
   "cell_type": "markdown",
   "metadata": {},
   "source": [
    "Testing with an example"
   ]
  },
  {
   "cell_type": "code",
   "execution_count": 25,
   "metadata": {},
   "outputs": [],
   "source": [
    "vader = SentimentIntensityAnalyzer()"
   ]
  },
  {
   "cell_type": "code",
   "execution_count": 26,
   "metadata": {},
   "outputs": [
    {
     "name": "stdout",
     "output_type": "stream",
     "text": [
      "On weekend we were in search of restaurant to have hyderabadi dum biryani. : \n",
      " {'neg': 0.0, 'neu': 1.0, 'pos': 0.0, 'compound': 0.0}\n",
      "As we entered out of office we found number of restaurants(all were busy). : \n",
      " {'neg': 0.0, 'neu': 0.902, 'pos': 0.098, 'compound': 0.0772}\n",
      "We found this restaurant in the third floor and thought of visiting this place becoz it is third floor and will not be much crowded but surprisingly people where waiting for seats. : \n",
      " {'neg': 0.0, 'neu': 0.917, 'pos': 0.083, 'compound': 0.4215}\n",
      "We ordered for chicken kebabs for starter which was perfectly cooked with awesome taste and after that we ordered chicken biryani which was came up with nice quality and superb taste with good enough quantity. : \n",
      " {'neg': 0.0, 'neu': 0.624, 'pos': 0.376, 'compound': 0.959}\n",
      "By the seeing the price of biryani we got shocked and after looking at the biryani quantity surprised. : \n",
      " {'neg': 0.114, 'neu': 0.792, 'pos': 0.094, 'compound': -0.1027}\n",
      "Serious it was good quantity for the price. : \n",
      " {'neg': 0.127, 'neu': 0.588, 'pos': 0.284, 'compound': 0.3818}\n",
      "After a gap of two weeks we again visited the place have Al mandi and we order for grilled chicken mandi which of average taste. : \n",
      " {'neg': 0.0, 'neu': 1.0, 'pos': 0.0, 'compound': 0.0}\n"
     ]
    }
   ],
   "source": [
    "sent_compound_list = []\n",
    "\n",
    "for sentence in reviews_example.tokenized_sentences:\n",
    "    sent_polarity = vader.polarity_scores(sentence)\n",
    "    sent_compound_list.append(sent_polarity[\"compound\"])\n",
    "    print(\"{} : \\n {}\".format(sentence, sent_polarity))"
   ]
  },
  {
   "cell_type": "code",
   "execution_count": 27,
   "metadata": {},
   "outputs": [
    {
     "data": {
      "text/html": [
       "<div>\n",
       "<style scoped>\n",
       "    .dataframe tbody tr th:only-of-type {\n",
       "        vertical-align: middle;\n",
       "    }\n",
       "\n",
       "    .dataframe tbody tr th {\n",
       "        vertical-align: top;\n",
       "    }\n",
       "\n",
       "    .dataframe thead th {\n",
       "        text-align: right;\n",
       "    }\n",
       "</style>\n",
       "<table border=\"1\" class=\"dataframe\">\n",
       "  <thead>\n",
       "    <tr style=\"text-align: right;\">\n",
       "      <th></th>\n",
       "      <th>Compound_Score</th>\n",
       "    </tr>\n",
       "  </thead>\n",
       "  <tbody>\n",
       "    <tr>\n",
       "      <th>count</th>\n",
       "      <td>7.000000</td>\n",
       "    </tr>\n",
       "    <tr>\n",
       "      <th>mean</th>\n",
       "      <td>0.248114</td>\n",
       "    </tr>\n",
       "    <tr>\n",
       "      <th>std</th>\n",
       "      <td>0.371640</td>\n",
       "    </tr>\n",
       "    <tr>\n",
       "      <th>min</th>\n",
       "      <td>-0.102700</td>\n",
       "    </tr>\n",
       "    <tr>\n",
       "      <th>25%</th>\n",
       "      <td>0.000000</td>\n",
       "    </tr>\n",
       "    <tr>\n",
       "      <th>50%</th>\n",
       "      <td>0.077200</td>\n",
       "    </tr>\n",
       "    <tr>\n",
       "      <th>75%</th>\n",
       "      <td>0.401650</td>\n",
       "    </tr>\n",
       "    <tr>\n",
       "      <th>max</th>\n",
       "      <td>0.959000</td>\n",
       "    </tr>\n",
       "  </tbody>\n",
       "</table>\n",
       "</div>"
      ],
      "text/plain": [
       "       Compound_Score\n",
       "count        7.000000\n",
       "mean         0.248114\n",
       "std          0.371640\n",
       "min         -0.102700\n",
       "25%          0.000000\n",
       "50%          0.077200\n",
       "75%          0.401650\n",
       "max          0.959000"
      ]
     },
     "execution_count": 27,
     "metadata": {},
     "output_type": "execute_result"
    }
   ],
   "source": [
    "scratch_df = pd.DataFrame({\"Sentences\":[sentence for sentence in reviews_example.tokenized_sentences], \"Compound_Score\":sent_compound_list})\n",
    "scratch_df.describe()"
   ]
  },
  {
   "cell_type": "code",
   "execution_count": 28,
   "metadata": {},
   "outputs": [
    {
     "name": "stdout",
     "output_type": "stream",
     "text": [
      "{'neg': 0.026, 'neu': 0.771, 'pos': 0.203, 'compound': 0.9866}\n",
      "3.46\n"
     ]
    }
   ],
   "source": [
    "test_review_polarity = vader.polarity_scores(reviews_example.raw_content)\n",
    "print(test_review_polarity)\n",
    "print(reviews_example.score)"
   ]
  },
  {
   "cell_type": "markdown",
   "metadata": {},
   "source": [
    "Applying VADER"
   ]
  },
  {
   "cell_type": "code",
   "execution_count": 29,
   "metadata": {},
   "outputs": [],
   "source": [
    "def vader_wrapper(user_review):    \n",
    "    if type(user_review) == list:\n",
    "        sent_compound_list = []\n",
    "        for sentence in user_review:\n",
    "            sent_compound_list.append(vader.polarity_scores(sentence)[\"compound\"])\n",
    "        polarity = np.array(sent_compound_list).mean()\n",
    "    else:\n",
    "        polarity = vader.polarity_scores(user_review)[\"compound\"]\n",
    "    return polarity"
   ]
  },
  {
   "cell_type": "code",
   "execution_count": 30,
   "metadata": {},
   "outputs": [
    {
     "data": {
      "text/html": [
       "<div>\n",
       "<style scoped>\n",
       "    .dataframe tbody tr th:only-of-type {\n",
       "        vertical-align: middle;\n",
       "    }\n",
       "\n",
       "    .dataframe tbody tr th {\n",
       "        vertical-align: top;\n",
       "    }\n",
       "\n",
       "    .dataframe thead th {\n",
       "        text-align: right;\n",
       "    }\n",
       "</style>\n",
       "<table border=\"1\" class=\"dataframe\">\n",
       "  <thead>\n",
       "    <tr style=\"text-align: right;\">\n",
       "      <th></th>\n",
       "      <th>Review</th>\n",
       "      <th>Zomato Score</th>\n",
       "      <th>Preproc_Review</th>\n",
       "      <th>Preproc_Sentences</th>\n",
       "      <th>content_polarity_vader</th>\n",
       "      <th>mean_sentence_polarity_vader</th>\n",
       "    </tr>\n",
       "  </thead>\n",
       "  <tbody>\n",
       "    <tr>\n",
       "      <th>2494</th>\n",
       "      <td>The place is really nice. Devashish helped us ...</td>\n",
       "      <td>3.37</td>\n",
       "      <td>The place is really nice . Devashish helped us...</td>\n",
       "      <td>[The place is really nice., Devashish helped u...</td>\n",
       "      <td>0.9391</td>\n",
       "      <td>0.639767</td>\n",
       "    </tr>\n",
       "    <tr>\n",
       "      <th>3598</th>\n",
       "      <td>Nice food</td>\n",
       "      <td>3.49</td>\n",
       "      <td>Nice food</td>\n",
       "      <td>[Nice food]</td>\n",
       "      <td>0.4215</td>\n",
       "      <td>0.421500</td>\n",
       "    </tr>\n",
       "    <tr>\n",
       "      <th>5014</th>\n",
       "      <td>Food was simply Superb.Punjabi food was very d...</td>\n",
       "      <td>3.61</td>\n",
       "      <td>Food was simply Superb.Punjabi food was very d...</td>\n",
       "      <td>[Food was simply Superb.Punjabi food was very ...</td>\n",
       "      <td>0.8930</td>\n",
       "      <td>0.893000</td>\n",
       "    </tr>\n",
       "    <tr>\n",
       "      <th>5044</th>\n",
       "      <td>We were 5 members and we went for lunch during...</td>\n",
       "      <td>3.61</td>\n",
       "      <td>We were 5 members and we went for lunch during...</td>\n",
       "      <td>[We were 5 members and we went for lunch durin...</td>\n",
       "      <td>0.9275</td>\n",
       "      <td>0.195120</td>\n",
       "    </tr>\n",
       "    <tr>\n",
       "      <th>8437</th>\n",
       "      <td>The Hotel is Full cheating we are very much di...</td>\n",
       "      <td>3.17</td>\n",
       "      <td>The Hotel is Full cheating we are very much di...</td>\n",
       "      <td>[The Hotel is Full cheating we are very much d...</td>\n",
       "      <td>-0.8672</td>\n",
       "      <td>-0.231000</td>\n",
       "    </tr>\n",
       "  </tbody>\n",
       "</table>\n",
       "</div>"
      ],
      "text/plain": [
       "                                                 Review  Zomato Score  \\\n",
       "2494  The place is really nice. Devashish helped us ...          3.37   \n",
       "3598                                          Nice food          3.49   \n",
       "5014  Food was simply Superb.Punjabi food was very d...          3.61   \n",
       "5044  We were 5 members and we went for lunch during...          3.61   \n",
       "8437  The Hotel is Full cheating we are very much di...          3.17   \n",
       "\n",
       "                                         Preproc_Review  \\\n",
       "2494  The place is really nice . Devashish helped us...   \n",
       "3598                                          Nice food   \n",
       "5014  Food was simply Superb.Punjabi food was very d...   \n",
       "5044  We were 5 members and we went for lunch during...   \n",
       "8437  The Hotel is Full cheating we are very much di...   \n",
       "\n",
       "                                      Preproc_Sentences  \\\n",
       "2494  [The place is really nice., Devashish helped u...   \n",
       "3598                                        [Nice food]   \n",
       "5014  [Food was simply Superb.Punjabi food was very ...   \n",
       "5044  [We were 5 members and we went for lunch durin...   \n",
       "8437  [The Hotel is Full cheating we are very much d...   \n",
       "\n",
       "      content_polarity_vader  mean_sentence_polarity_vader  \n",
       "2494                  0.9391                      0.639767  \n",
       "3598                  0.4215                      0.421500  \n",
       "5014                  0.8930                      0.893000  \n",
       "5044                  0.9275                      0.195120  \n",
       "8437                 -0.8672                     -0.231000  "
      ]
     },
     "execution_count": 30,
     "metadata": {},
     "output_type": "execute_result"
    }
   ],
   "source": [
    "reviews[\"content_polarity_vader\"] = reviews[\"Preproc_Review\"].map(lambda review: vader_wrapper(review))\n",
    "reviews[\"mean_sentence_polarity_vader\"] = reviews[\"Preproc_Sentences\"].map(lambda review: vader_wrapper(review))\n",
    "reviews.sample(5)"
   ]
  },
  {
   "cell_type": "markdown",
   "metadata": {},
   "source": [
    "Comparing Content Polarity with Mean Sentence Polarity"
   ]
  },
  {
   "cell_type": "code",
   "execution_count": 31,
   "metadata": {},
   "outputs": [
    {
     "data": {
      "text/plain": [
       "0.8198405240794107"
      ]
     },
     "execution_count": 31,
     "metadata": {},
     "output_type": "execute_result"
    }
   ],
   "source": [
    "pearson_r, p_value = pearsonr(reviews[\"mean_sentence_polarity_vader\"],reviews[\"content_polarity_vader\"])\n",
    "pearson_r"
   ]
  },
  {
   "cell_type": "markdown",
   "metadata": {},
   "source": [
    "### Using TextBlob"
   ]
  },
  {
   "cell_type": "markdown",
   "metadata": {},
   "source": [
    "Testing"
   ]
  },
  {
   "cell_type": "code",
   "execution_count": 32,
   "metadata": {},
   "outputs": [
    {
     "data": {
      "text/plain": [
       "Sentiment(polarity=0.16403508771929823, subjectivity=0.6482456140350877)"
      ]
     },
     "execution_count": 32,
     "metadata": {},
     "output_type": "execute_result"
    }
   ],
   "source": [
    "test_blob = TextBlob(reviews_example.raw_content)\n",
    "test_blob.sentiment"
   ]
  },
  {
   "cell_type": "code",
   "execution_count": 33,
   "metadata": {},
   "outputs": [],
   "source": [
    "def textblob_wrapper(user_review):   \n",
    "    if type(user_review) == list:\n",
    "        sent_compound_list = []\n",
    "        for sentence in user_review:\n",
    "            sent_compound_list.append(TextBlob(sentence).sentiment.polarity)\n",
    "        polarity = np.array(sent_compound_list).mean()\n",
    "    else:\n",
    "        polarity = TextBlob(user_review).sentiment.polarity\n",
    "    return polarity"
   ]
  },
  {
   "cell_type": "code",
   "execution_count": 34,
   "metadata": {},
   "outputs": [
    {
     "data": {
      "text/plain": [
       "0.03155"
      ]
     },
     "execution_count": 34,
     "metadata": {},
     "output_type": "execute_result"
    }
   ],
   "source": [
    "round(textblob_wrapper(reviews_example.tokenized_sentences), 5)"
   ]
  },
  {
   "cell_type": "markdown",
   "metadata": {},
   "source": [
    "Applying"
   ]
  },
  {
   "cell_type": "code",
   "execution_count": 35,
   "metadata": {},
   "outputs": [],
   "source": [
    "reviews[\"content_polarity_textblob\"] = reviews[\"Preproc_Review\"].map(lambda review : textblob_wrapper(review))\n",
    "reviews[\"mean_sentence_polarity_textblob\"] = reviews[\"Preproc_Sentences\"].map(lambda review : textblob_wrapper(review))"
   ]
  },
  {
   "cell_type": "code",
   "execution_count": 36,
   "metadata": {},
   "outputs": [
    {
     "data": {
      "text/plain": [
       "0.9547797484697194"
      ]
     },
     "execution_count": 36,
     "metadata": {},
     "output_type": "execute_result"
    }
   ],
   "source": [
    "pearson_r, p_value = pearsonr(reviews[\"mean_sentence_polarity_textblob\"],reviews[\"content_polarity_textblob\"])\n",
    "pearson_r"
   ]
  },
  {
   "cell_type": "markdown",
   "metadata": {},
   "source": [
    "### Comparing the SA results against the average zomato score of the restaurant"
   ]
  },
  {
   "cell_type": "code",
   "execution_count": 37,
   "metadata": {},
   "outputs": [
    {
     "data": {
      "text/plain": [
       "0.3312539978803274"
      ]
     },
     "execution_count": 37,
     "metadata": {},
     "output_type": "execute_result"
    }
   ],
   "source": [
    "pearson_r, p_value = pearsonr(reviews[\"Zomato Score\"],reviews[\"content_polarity_vader\"])\n",
    "pearson_r"
   ]
  },
  {
   "cell_type": "code",
   "execution_count": 38,
   "metadata": {},
   "outputs": [
    {
     "data": {
      "text/plain": [
       "0.33125399788032744"
      ]
     },
     "execution_count": 38,
     "metadata": {},
     "output_type": "execute_result"
    }
   ],
   "source": [
    "scaler = preprocessing.MinMaxScaler()\n",
    "#The \"reshape(-1,1)\" is there to make sure that the column is fed as a 2D (4915 x 1) array\n",
    "normalized_score = scaler.fit_transform(reviews[\"Zomato Score\"].to_numpy().reshape(-1, 1))\n",
    "normalized_polarity_vader = scaler.fit_transform(reviews[\"content_polarity_vader\"].to_numpy().reshape(-1, 1))\n",
    "\n",
    "#The \"reshape(-1)\" is there to flatten the 2D array into a 1D array\n",
    "pearson_r, p_value = pearsonr(normalized_score.reshape(-1), normalized_polarity_vader.reshape(-1))\n",
    "pearson_r"
   ]
  },
  {
   "cell_type": "code",
   "execution_count": 39,
   "metadata": {},
   "outputs": [
    {
     "name": "stdout",
     "output_type": "stream",
     "text": [
      "RMSE: 0.39; MAPE: 20528180076598.91\n"
     ]
    }
   ],
   "source": [
    "rmse = mean_squared_error(normalized_score.reshape(-1), normalized_polarity_vader.reshape(-1), squared=False)\n",
    "mape = mean_absolute_percentage_error(normalized_score.reshape(-1), normalized_polarity_vader.reshape(-1))\n",
    "print(\"RMSE: {}; MAPE: {}\".format(round(rmse, 3), round(mape, 3)))"
   ]
  },
  {
   "cell_type": "code",
   "execution_count": 40,
   "metadata": {},
   "outputs": [
    {
     "name": "stdout",
     "output_type": "stream",
     "text": [
      "RMSE: 0.39; MAPE: 0.238\n"
     ]
    }
   ],
   "source": [
    "rmse = mean_squared_error(normalized_score.reshape(-1), normalized_polarity_vader.reshape(-1), squared=False)\n",
    "mape = mean_absolute_percentage_error(normalized_score.reshape(-1)+1, normalized_polarity_vader.reshape(-1)+1)\n",
    "\n",
    "print(\"RMSE: {}; MAPE: {}\".format(round(rmse, 3), round(mape, 3)))"
   ]
  },
  {
   "cell_type": "markdown",
   "metadata": {},
   "source": [
    "### Summary"
   ]
  },
  {
   "cell_type": "code",
   "execution_count": 41,
   "metadata": {},
   "outputs": [
    {
     "data": {
      "text/html": [
       "<div>\n",
       "<style scoped>\n",
       "    .dataframe tbody tr th:only-of-type {\n",
       "        vertical-align: middle;\n",
       "    }\n",
       "\n",
       "    .dataframe tbody tr th {\n",
       "        vertical-align: top;\n",
       "    }\n",
       "\n",
       "    .dataframe thead th {\n",
       "        text-align: right;\n",
       "    }\n",
       "</style>\n",
       "<table border=\"1\" class=\"dataframe\">\n",
       "  <thead>\n",
       "    <tr style=\"text-align: right;\">\n",
       "      <th></th>\n",
       "      <th>Zomato Score</th>\n",
       "      <th>content_polarity_vader</th>\n",
       "      <th>mean_sentence_polarity_vader</th>\n",
       "      <th>content_polarity_textblob</th>\n",
       "      <th>mean_sentence_polarity_textblob</th>\n",
       "      <th>normalized_score</th>\n",
       "      <th>normalized_polarity_vader</th>\n",
       "    </tr>\n",
       "  </thead>\n",
       "  <tbody>\n",
       "    <tr>\n",
       "      <th>count</th>\n",
       "      <td>9955.000000</td>\n",
       "      <td>9955.000000</td>\n",
       "      <td>9955.000000</td>\n",
       "      <td>9.955000e+03</td>\n",
       "      <td>9955.000000</td>\n",
       "      <td>9955.000000</td>\n",
       "      <td>9955.000000</td>\n",
       "    </tr>\n",
       "    <tr>\n",
       "      <th>mean</th>\n",
       "      <td>3.600263</td>\n",
       "      <td>0.475257</td>\n",
       "      <td>0.275961</td>\n",
       "      <td>2.492011e-01</td>\n",
       "      <td>0.226977</td>\n",
       "      <td>0.483977</td>\n",
       "      <td>0.736976</td>\n",
       "    </tr>\n",
       "    <tr>\n",
       "      <th>std</th>\n",
       "      <td>0.505936</td>\n",
       "      <td>0.585091</td>\n",
       "      <td>0.373486</td>\n",
       "      <td>3.644299e-01</td>\n",
       "      <td>0.336662</td>\n",
       "      <td>0.204007</td>\n",
       "      <td>0.293441</td>\n",
       "    </tr>\n",
       "    <tr>\n",
       "      <th>min</th>\n",
       "      <td>2.400000</td>\n",
       "      <td>-0.994200</td>\n",
       "      <td>-0.972100</td>\n",
       "      <td>-1.000000e+00</td>\n",
       "      <td>-1.000000</td>\n",
       "      <td>0.000000</td>\n",
       "      <td>0.000000</td>\n",
       "    </tr>\n",
       "    <tr>\n",
       "      <th>25%</th>\n",
       "      <td>3.230000</td>\n",
       "      <td>0.000000</td>\n",
       "      <td>0.000000</td>\n",
       "      <td>5.551115e-17</td>\n",
       "      <td>0.000000</td>\n",
       "      <td>0.334677</td>\n",
       "      <td>0.498621</td>\n",
       "    </tr>\n",
       "    <tr>\n",
       "      <th>50%</th>\n",
       "      <td>3.610000</td>\n",
       "      <td>0.765000</td>\n",
       "      <td>0.318200</td>\n",
       "      <td>2.750000e-01</td>\n",
       "      <td>0.233510</td>\n",
       "      <td>0.487903</td>\n",
       "      <td>0.882291</td>\n",
       "    </tr>\n",
       "    <tr>\n",
       "      <th>75%</th>\n",
       "      <td>3.845000</td>\n",
       "      <td>0.935900</td>\n",
       "      <td>0.503653</td>\n",
       "      <td>5.034524e-01</td>\n",
       "      <td>0.451181</td>\n",
       "      <td>0.582661</td>\n",
       "      <td>0.968002</td>\n",
       "    </tr>\n",
       "    <tr>\n",
       "      <th>max</th>\n",
       "      <td>4.880000</td>\n",
       "      <td>0.999700</td>\n",
       "      <td>0.995000</td>\n",
       "      <td>1.000000e+00</td>\n",
       "      <td>1.000000</td>\n",
       "      <td>1.000000</td>\n",
       "      <td>1.000000</td>\n",
       "    </tr>\n",
       "  </tbody>\n",
       "</table>\n",
       "</div>"
      ],
      "text/plain": [
       "       Zomato Score  content_polarity_vader  mean_sentence_polarity_vader  \\\n",
       "count   9955.000000             9955.000000                   9955.000000   \n",
       "mean       3.600263                0.475257                      0.275961   \n",
       "std        0.505936                0.585091                      0.373486   \n",
       "min        2.400000               -0.994200                     -0.972100   \n",
       "25%        3.230000                0.000000                      0.000000   \n",
       "50%        3.610000                0.765000                      0.318200   \n",
       "75%        3.845000                0.935900                      0.503653   \n",
       "max        4.880000                0.999700                      0.995000   \n",
       "\n",
       "       content_polarity_textblob  mean_sentence_polarity_textblob  \\\n",
       "count               9.955000e+03                      9955.000000   \n",
       "mean                2.492011e-01                         0.226977   \n",
       "std                 3.644299e-01                         0.336662   \n",
       "min                -1.000000e+00                        -1.000000   \n",
       "25%                 5.551115e-17                         0.000000   \n",
       "50%                 2.750000e-01                         0.233510   \n",
       "75%                 5.034524e-01                         0.451181   \n",
       "max                 1.000000e+00                         1.000000   \n",
       "\n",
       "       normalized_score  normalized_polarity_vader  \n",
       "count       9955.000000                9955.000000  \n",
       "mean           0.483977                   0.736976  \n",
       "std            0.204007                   0.293441  \n",
       "min            0.000000                   0.000000  \n",
       "25%            0.334677                   0.498621  \n",
       "50%            0.487903                   0.882291  \n",
       "75%            0.582661                   0.968002  \n",
       "max            1.000000                   1.000000  "
      ]
     },
     "execution_count": 41,
     "metadata": {},
     "output_type": "execute_result"
    }
   ],
   "source": [
    "reviews[\"normalized_score\"] = normalized_score.reshape(-1)\n",
    "reviews[\"normalized_polarity_vader\"] = normalized_polarity_vader.reshape(-1)\n",
    "reviews.describe()"
   ]
  },
  {
   "cell_type": "code",
   "execution_count": 42,
   "metadata": {},
   "outputs": [
    {
     "data": {
      "image/png": "[encoded data removed]",
      "text/plain": [
       "<Figure size 500x500 with 1 Axes>"
      ]
     },
     "metadata": {},
     "output_type": "display_data"
    }
   ],
   "source": [
    "score_graph = sns.displot(reviews[\"normalized_score\"], kde=True, bins=5)\n",
    "plt.ylim(0, 5000)\n",
    "plt.show()"
   ]
  },
  {
   "cell_type": "code",
   "execution_count": 43,
   "metadata": {},
   "outputs": [
    {
     "data": {
      "image/png": "[encoded data removed]",
      "text/plain": [
       "<Figure size 500x500 with 1 Axes>"
      ]
     },
     "metadata": {},
     "output_type": "display_data"
    }
   ],
   "source": [
    "polarity_graph = sns.displot(reviews[\"normalized_polarity_vader\"], kde=True, bins=5)\n",
    "plt.ylim(0, 5000)\n",
    "plt.show()"
   ]
  },
  {
   "cell_type": "code",
   "execution_count": 44,
   "metadata": {},
   "outputs": [
    {
     "data": {
      "image/png": "[encoded data removed]",
      "text/plain": [
       "<Figure size 640x480 with 1 Axes>"
      ]
     },
     "metadata": {},
     "output_type": "display_data"
    }
   ],
   "source": [
    "# Ensure the 'overall_cat' column is formatted correctly\n",
    "reviews[\"overall_cat\"] = reviews[\"Zomato Score\"].apply(lambda score: f\"{score:.1f}\")\n",
    "\n",
    "# Create the boxplot with the correct order\n",
    "sns.boxplot(data=reviews, x=\"normalized_polarity_vader\", y=\"overall_cat\", order=[\"5.0\", \"4.0\", \"3.0\", \"2.0\", \"1.0\"])\n",
    "plt.show()"
   ]
  },
  {
   "cell_type": "code",
   "execution_count": 45,
   "metadata": {},
   "outputs": [
    {
     "name": "stdout",
     "output_type": "stream",
     "text": [
      "Pearson R: 0.292; RMSE: 0.27; MAPE: 0.155\n"
     ]
    }
   ],
   "source": [
    "normalized_polarity_textblob = scaler.fit_transform(reviews[\"content_polarity_textblob\"].to_numpy().reshape(-1, 1))\n",
    "reviews[\"normalized_polarity_textblob\"] = normalized_polarity_textblob.reshape(-1)\n",
    "pearson_r, p_value = pearsonr(normalized_score.reshape(-1), normalized_polarity_textblob.reshape(-1))\n",
    "rmse = mean_squared_error(normalized_score.reshape(-1), normalized_polarity_textblob.reshape(-1), squared=False)\n",
    "mape = mean_absolute_percentage_error(normalized_score.reshape(-1)+1, normalized_polarity_textblob.reshape(-1)+1)\n",
    "\n",
    "print(\"Pearson R: {}; RMSE: {}; MAPE: {}\".format(round(pearson_r, 3), round(rmse, 3), round(mape, 3)))"
   ]
  },
  {
   "cell_type": "code",
   "execution_count": 46,
   "metadata": {},
   "outputs": [
    {
     "data": {
      "image/png": "[encoded data removed]",
      "text/plain": [
       "<Figure size 640x480 with 1 Axes>"
      ]
     },
     "metadata": {},
     "output_type": "display_data"
    }
   ],
   "source": [
    "sns.boxplot(data=reviews, x=\"normalized_polarity_textblob\", y=\"overall_cat\", order=[\"5.0\", \"4.0\", \"3.0\", \"2.0\", \"1.0\"])\n",
    "plt.show()"
   ]
  },
  {
   "cell_type": "markdown",
   "metadata": {},
   "source": [
    "### Comparing VADER and TextBlob"
   ]
  },
  {
   "cell_type": "code",
   "execution_count": 47,
   "metadata": {},
   "outputs": [
    {
     "data": {
      "text/plain": [
       "0.6589229516232069"
      ]
     },
     "execution_count": 47,
     "metadata": {},
     "output_type": "execute_result"
    }
   ],
   "source": [
    "pearson_r, p_value = pearsonr(reviews[\"normalized_polarity_vader\"],reviews[\"normalized_polarity_textblob\"])\n",
    "pearson_r"
   ]
  },
  {
   "cell_type": "code",
   "execution_count": 48,
   "metadata": {},
   "outputs": [
    {
     "data": {
      "text/plain": [
       "<Axes: xlabel='normalized_polarity_vader', ylabel='normalized_polarity_textblob'>"
      ]
     },
     "execution_count": 48,
     "metadata": {},
     "output_type": "execute_result"
    },
    {
     "data": {
      "image/png": "[encoded data removed]",
      "text/plain": [
       "<Figure size 640x480 with 1 Axes>"
      ]
     },
     "metadata": {},
     "output_type": "display_data"
    }
   ],
   "source": [
    "sns.regplot(data=reviews, x=\"normalized_polarity_vader\", y=\"normalized_polarity_textblob\")"
   ]
  },
  {
   "cell_type": "code",
   "execution_count": 49,
   "metadata": {},
   "outputs": [
    {
     "data": {
      "text/html": [
       "<div>\n",
       "<style scoped>\n",
       "    .dataframe tbody tr th:only-of-type {\n",
       "        vertical-align: middle;\n",
       "    }\n",
       "\n",
       "    .dataframe tbody tr th {\n",
       "        vertical-align: top;\n",
       "    }\n",
       "\n",
       "    .dataframe thead th {\n",
       "        text-align: right;\n",
       "    }\n",
       "</style>\n",
       "<table border=\"1\" class=\"dataframe\">\n",
       "  <thead>\n",
       "    <tr style=\"text-align: right;\">\n",
       "      <th></th>\n",
       "      <th>Zomato Score</th>\n",
       "      <th>content_polarity_vader</th>\n",
       "      <th>mean_sentence_polarity_vader</th>\n",
       "      <th>content_polarity_textblob</th>\n",
       "      <th>mean_sentence_polarity_textblob</th>\n",
       "      <th>normalized_score</th>\n",
       "      <th>normalized_polarity_vader</th>\n",
       "      <th>normalized_polarity_textblob</th>\n",
       "    </tr>\n",
       "  </thead>\n",
       "  <tbody>\n",
       "    <tr>\n",
       "      <th>count</th>\n",
       "      <td>9955.000000</td>\n",
       "      <td>9955.000000</td>\n",
       "      <td>9955.000000</td>\n",
       "      <td>9.955000e+03</td>\n",
       "      <td>9955.000000</td>\n",
       "      <td>9955.000000</td>\n",
       "      <td>9955.000000</td>\n",
       "      <td>9955.000000</td>\n",
       "    </tr>\n",
       "    <tr>\n",
       "      <th>mean</th>\n",
       "      <td>3.600263</td>\n",
       "      <td>0.475257</td>\n",
       "      <td>0.275961</td>\n",
       "      <td>2.492011e-01</td>\n",
       "      <td>0.226977</td>\n",
       "      <td>0.483977</td>\n",
       "      <td>0.736976</td>\n",
       "      <td>0.624601</td>\n",
       "    </tr>\n",
       "    <tr>\n",
       "      <th>std</th>\n",
       "      <td>0.505936</td>\n",
       "      <td>0.585091</td>\n",
       "      <td>0.373486</td>\n",
       "      <td>3.644299e-01</td>\n",
       "      <td>0.336662</td>\n",
       "      <td>0.204007</td>\n",
       "      <td>0.293441</td>\n",
       "      <td>0.182215</td>\n",
       "    </tr>\n",
       "    <tr>\n",
       "      <th>min</th>\n",
       "      <td>2.400000</td>\n",
       "      <td>-0.994200</td>\n",
       "      <td>-0.972100</td>\n",
       "      <td>-1.000000e+00</td>\n",
       "      <td>-1.000000</td>\n",
       "      <td>0.000000</td>\n",
       "      <td>0.000000</td>\n",
       "      <td>0.000000</td>\n",
       "    </tr>\n",
       "    <tr>\n",
       "      <th>25%</th>\n",
       "      <td>3.230000</td>\n",
       "      <td>0.000000</td>\n",
       "      <td>0.000000</td>\n",
       "      <td>5.551115e-17</td>\n",
       "      <td>0.000000</td>\n",
       "      <td>0.334677</td>\n",
       "      <td>0.498621</td>\n",
       "      <td>0.500000</td>\n",
       "    </tr>\n",
       "    <tr>\n",
       "      <th>50%</th>\n",
       "      <td>3.610000</td>\n",
       "      <td>0.765000</td>\n",
       "      <td>0.318200</td>\n",
       "      <td>2.750000e-01</td>\n",
       "      <td>0.233510</td>\n",
       "      <td>0.487903</td>\n",
       "      <td>0.882291</td>\n",
       "      <td>0.637500</td>\n",
       "    </tr>\n",
       "    <tr>\n",
       "      <th>75%</th>\n",
       "      <td>3.845000</td>\n",
       "      <td>0.935900</td>\n",
       "      <td>0.503653</td>\n",
       "      <td>5.034524e-01</td>\n",
       "      <td>0.451181</td>\n",
       "      <td>0.582661</td>\n",
       "      <td>0.968002</td>\n",
       "      <td>0.751726</td>\n",
       "    </tr>\n",
       "    <tr>\n",
       "      <th>max</th>\n",
       "      <td>4.880000</td>\n",
       "      <td>0.999700</td>\n",
       "      <td>0.995000</td>\n",
       "      <td>1.000000e+00</td>\n",
       "      <td>1.000000</td>\n",
       "      <td>1.000000</td>\n",
       "      <td>1.000000</td>\n",
       "      <td>1.000000</td>\n",
       "    </tr>\n",
       "  </tbody>\n",
       "</table>\n",
       "</div>"
      ],
      "text/plain": [
       "       Zomato Score  content_polarity_vader  mean_sentence_polarity_vader  \\\n",
       "count   9955.000000             9955.000000                   9955.000000   \n",
       "mean       3.600263                0.475257                      0.275961   \n",
       "std        0.505936                0.585091                      0.373486   \n",
       "min        2.400000               -0.994200                     -0.972100   \n",
       "25%        3.230000                0.000000                      0.000000   \n",
       "50%        3.610000                0.765000                      0.318200   \n",
       "75%        3.845000                0.935900                      0.503653   \n",
       "max        4.880000                0.999700                      0.995000   \n",
       "\n",
       "       content_polarity_textblob  mean_sentence_polarity_textblob  \\\n",
       "count               9.955000e+03                      9955.000000   \n",
       "mean                2.492011e-01                         0.226977   \n",
       "std                 3.644299e-01                         0.336662   \n",
       "min                -1.000000e+00                        -1.000000   \n",
       "25%                 5.551115e-17                         0.000000   \n",
       "50%                 2.750000e-01                         0.233510   \n",
       "75%                 5.034524e-01                         0.451181   \n",
       "max                 1.000000e+00                         1.000000   \n",
       "\n",
       "       normalized_score  normalized_polarity_vader  \\\n",
       "count       9955.000000                9955.000000   \n",
       "mean           0.483977                   0.736976   \n",
       "std            0.204007                   0.293441   \n",
       "min            0.000000                   0.000000   \n",
       "25%            0.334677                   0.498621   \n",
       "50%            0.487903                   0.882291   \n",
       "75%            0.582661                   0.968002   \n",
       "max            1.000000                   1.000000   \n",
       "\n",
       "       normalized_polarity_textblob  \n",
       "count                   9955.000000  \n",
       "mean                       0.624601  \n",
       "std                        0.182215  \n",
       "min                        0.000000  \n",
       "25%                        0.500000  \n",
       "50%                        0.637500  \n",
       "75%                        0.751726  \n",
       "max                        1.000000  "
      ]
     },
     "execution_count": 49,
     "metadata": {},
     "output_type": "execute_result"
    }
   ],
   "source": [
    "reviews.describe()"
   ]
  }
 ],
 "metadata": {
  "kernelspec": {
   "display_name": "Python 3",
   "language": "python",
   "name": "python3"
  },
  "language_info": {
   "codemirror_mode": {
    "name": "ipython",
    "version": 3
   },
   "file_extension": ".py",
   "mimetype": "text/x-python",
   "name": "python",
   "nbconvert_exporter": "python",
   "pygments_lexer": "ipython3",
   "version": "3.10.9"
  }
 },
 "nbformat": 4,
 "nbformat_minor": 2
}
