{
 "cells": [
  {
   "cell_type": "markdown",
   "metadata": {},
   "source": [
    "# Document Clustering"
   ]
  },
  {
   "cell_type": "markdown",
   "metadata": {},
   "source": [
    "importing needed libraries and data"
   ]
  },
  {
   "cell_type": "code",
   "execution_count": 1,
   "metadata": {},
   "outputs": [
    {
     "name": "stderr",
     "output_type": "stream",
     "text": [
      "[nltk_data] Downloading package averaged_perceptron_tagger_eng to\n",
      "[nltk_data]     C:\\Users\\pedro\\AppData\\Roaming\\nltk_data...\n",
      "[nltk_data]   Package averaged_perceptron_tagger_eng is already up-to-\n",
      "[nltk_data]       date!\n"
     ]
    }
   ],
   "source": [
    "%load_ext autoreload\n",
    "%autoreload 2\n",
    "\n",
    "import json\n",
    "from collections import defaultdict, Counter\n",
    "\n",
    "\n",
    "#General-Purpose\n",
    "import pandas as pd\n",
    "import numpy as np\n",
    "import re\n",
    "import nltk\n",
    "import pickle\n",
    "import shutil\n",
    "import os\n",
    "from tqdm import tqdm\n",
    "\n",
    "#Preprocessing\n",
    "#from utils.pipeline_v2b import *\n",
    "from sklearn.preprocessing import MinMaxScaler\n",
    "from sklearn.decomposition import PCA, TruncatedSVD\n",
    "\n",
    "#Vectorization\n",
    "from sklearn.feature_extraction.text import CountVectorizer,TfidfVectorizer\n",
    "from gensim.models.doc2vec import Doc2Vec, TaggedDocument\n",
    "\n",
    "#Clustering\n",
    "from sklearn.cluster import KMeans, HDBSCAN, OPTICS\n",
    "\n",
    "#Evaluation\n",
    "from sklearn.metrics import silhouette_score, calinski_harabasz_score, adjusted_mutual_info_score\n",
    "\n",
    "#Visualization\n",
    "import plotly.graph_objects as go\n",
    "import plotly.express as px\n",
    "import matplotlib.pyplot as plt\n",
    "import seaborn as sns\n",
    "import networkx as nx\n",
    "\n",
    "#pandas and numpy for df manipulation\n",
    "import pandas as pd\n",
    "import re\n",
    "import nltk\n",
    "nltk.download('averaged_perceptron_tagger_eng')\n",
    "\n",
    "#Preprocessing: tokenization\n",
    "from nltk.tokenize import RegexpTokenizer\n",
    "\n",
    "#NER and Metrics with sklearn and sklearn_crfsuite\n",
    "from sklearn.model_selection import train_test_split\n",
    "#%pip install git+\"https://github.com/MeMartijn/updated-sklearn-crfsuite.git#egg=sklearn_crfsuite\"\n",
    "import sklearn_crfsuite\n",
    "from sklearn_crfsuite import metrics\n",
    "from sklearn_crfsuite import scorers\n",
    "\n",
    "#NER and Visualization with SpaCy\n",
    "#%pip install -U pip setuptools wheel\n",
    "#%pip install -U spacy\n",
    "#!python -m spacy download en_core_web_sm\n",
    "import spacy\n",
    "from spacy import displacy"
   ]
  },
  {
   "cell_type": "code",
   "execution_count": 2,
   "metadata": {},
   "outputs": [],
   "source": [
    "reviews = pd.read_csv(r\"D:\\MARGARIDA\\dificuldade\\3rd_year\\TM project\\Hyderabadi-Word-Soup\\coocurrence_clustering\\reviews_with_dishes.csv\")"
   ]
  },
  {
   "cell_type": "markdown",
   "metadata": {},
   "source": [
    "## Data Preparation"
   ]
  },
  {
   "cell_type": "markdown",
   "metadata": {},
   "source": [
    "Preparing data using the best performing model for NER detected in co_occurance_exploration"
   ]
  },
  {
   "cell_type": "markdown",
   "metadata": {},
   "source": [
    "vectorizing"
   ]
  },
  {
   "cell_type": "code",
   "execution_count": 3,
   "metadata": {},
   "outputs": [],
   "source": [
    "def data_preparer(data, column, sample_size=0.25):\n",
    "    \"\"\"\n",
    "    Prepares data for NLP tasks by vectorizing text data.\n",
    "    \n",
    "    Args:\n",
    "        data (DataFrame): Input data.\n",
    "        column (str): Name of the column containing text data.\n",
    "        sample_size (float, optional): Proportion of data to use for sampling. Defaults to 0.25.\n",
    "    \n",
    "    Returns:\n",
    "        DataFrame: Data with vectorized text data.\n",
    "    \"\"\"\n",
    "    # Vectorize using BOW\n",
    "    bow_vectorizer = CountVectorizer(ngram_range=(1, 1), token_pattern=r\"(?u)\\b\\w+\\b\")\n",
    "    data_bow_td_matrix = bow_vectorizer.fit_transform(data[column].apply(lambda x: ' '.join(x))).toarray()\n",
    "    data[\"bow_vector\"] = data_bow_td_matrix.tolist()\n",
    "\n",
    "    # Vectorize using TF-IDF\n",
    "    tfidf_vectorizer = TfidfVectorizer(ngram_range=(1, 1), token_pattern=r\"(?u)\\b\\w+\\b\")\n",
    "    data_tfidf_td_matrix = tfidf_vectorizer.fit_transform(data[column].apply(lambda x: ' '.join(x))).toarray()\n",
    "    data[\"tfidf_vector\"] = data_tfidf_td_matrix.tolist()\n",
    "\n",
    "    # Vectorize using Doc2Vec\n",
    "    d2v = Doc2Vec \n",
    "    documents = [TaggedDocument(doc, [i]) for i, doc in enumerate(data[column])]\n",
    "    d2v_model = d2v(documents, vector_size=300, window=6, min_count=1, workers=4, epochs=20)\n",
    "    data[\"doc2vec_vector\"] = [d2v_model.dv[idx].tolist() for idx in tqdm(range(len(data)))]\n",
    "\n",
    "    return data"
   ]
  },
  {
   "cell_type": "code",
   "execution_count": 4,
   "metadata": {},
   "outputs": [
    {
     "name": "stderr",
     "output_type": "stream",
     "text": [
      "100%|██████████| 9955/9955 [00:00<00:00, 28990.84it/s]\n"
     ]
    }
   ],
   "source": [
    "vectorized_reviews = data_preparer(reviews, \"filtered_review\")"
   ]
  },
  {
   "cell_type": "code",
   "execution_count": 5,
   "metadata": {},
   "outputs": [],
   "source": [
    "ner_bow_td_matrix= np.array([[component for component in doc] for doc in vectorized_reviews[\"bow_vector\"]])\n",
    "ner_tfidf_td_matrix = np.array([[component for component in doc] for doc in vectorized_reviews[\"tfidf_vector\"]])\n",
    "ner_doc2vec_td_matrix = np.array([[component for component in doc] for doc in vectorized_reviews[\"doc2vec_vector\"]])"
   ]
  },
  {
   "cell_type": "code",
   "execution_count": 6,
   "metadata": {},
   "outputs": [],
   "source": [
    "kmeans_tfidf = KMeans(n_clusters=9, random_state=39).fit(ner_tfidf_td_matrix)"
   ]
  }
 ],
 "metadata": {
  "kernelspec": {
   "display_name": "Python 3",
   "language": "python",
   "name": "python3"
  },
  "language_info": {
   "codemirror_mode": {
    "name": "ipython",
    "version": 3
   },
   "file_extension": ".py",
   "mimetype": "text/x-python",
   "name": "python",
   "nbconvert_exporter": "python",
   "pygments_lexer": "ipython3",
   "version": "3.10.11"
  }
 },
 "nbformat": 4,
 "nbformat_minor": 2
}
